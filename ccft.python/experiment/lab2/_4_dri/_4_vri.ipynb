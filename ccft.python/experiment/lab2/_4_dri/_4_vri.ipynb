{
 "cells": [
  {
   "cell_type": "markdown",
   "source": [
    "# Node Risk Vulnerability Index Analysis Experiment"
   ],
   "metadata": {
    "collapsed": false
   },
   "id": "f08df12b457cb621"
  },
  {
   "cell_type": "code",
   "id": "initial_id",
   "metadata": {
    "collapsed": true,
    "ExecuteTime": {
     "end_time": "2024-05-22T07:35:53.696940Z",
     "start_time": "2024-05-22T07:35:53.677981Z"
    }
   },
   "source": [
    "from matplotlib import pyplot as plt\n",
    "\n",
    "plt.rcParams['font.sans-serif'] = ['Microsoft YaHei']\n",
    "plt.rcParams['axes.unicode_minus'] = False\n",
    "\n",
    "shapes = ['o', 'v', '^', '<', '>', 's', 'p', '*', 'h', '+']\n",
    "colors = ['red', 'blue', 'green', 'orange', 'purple', 'cyan', 'magenta', 'darkgreen', 'chocolate']"
   ],
   "execution_count": 13,
   "outputs": []
  },
  {
   "cell_type": "markdown",
   "source": [
    "## Experimental preparation"
   ],
   "metadata": {
    "collapsed": false
   },
   "id": "4033f3a5f89c779c"
  },
  {
   "cell_type": "markdown",
   "source": [],
   "metadata": {
    "collapsed": false
   },
   "id": "a272cf5bebbd5b93"
  },
  {
   "cell_type": "markdown",
   "source": [
    "### Read network"
   ],
   "metadata": {
    "collapsed": false
   },
   "id": "9d0583d187e05765"
  },
  {
   "cell_type": "code",
   "source": [
    "from experiment.functions import func_get_lab_graph\n",
    "import os\n",
    "from experiment.lab2._0_config_ import SoftwareConfigs1, LabSpace\n",
    "\n",
    "Graphs = dict()\n",
    "Labels = dict()\n",
    "Types = dict()\n",
    "\n",
    "directory = os.path.join(LabSpace, '.vri')\n",
    "if not os.path.isdir(directory):\n",
    "    os.makedirs(directory)\n",
    "\n",
    "for softwareName, (status, language, src_dir) in SoftwareConfigs1.items():\n",
    "    if status:\n",
    "        modelDir = os.path.join(LabSpace, softwareName)\n",
    "        labDir = os.path.join(modelDir, '.lab2')\n",
    "        graphDir = os.path.join(labDir, 'graph')\n",
    "\n",
    "        if not os.path.isdir(labDir):\n",
    "            os.makedirs(labDir, exist_ok=True)\n",
    "\n",
    "        G, labelDict, _, typeDict = func_get_lab_graph(modelDir, labDir, softwareName)\n",
    "        Graphs[softwareName] = G\n",
    "        Labels[softwareName] = labelDict\n",
    "        Types[softwareName] = typeDict\n",
    "        print(f'{softwareName} Network reading completed')"
   ],
   "metadata": {
    "collapsed": false,
    "ExecuteTime": {
     "end_time": "2024-05-22T07:35:53.932015Z",
     "start_time": "2024-05-22T07:35:53.697067Z"
    }
   },
   "id": "c428840b0978bf5d",
   "execution_count": 14,
   "outputs": []
  },
  {
   "cell_type": "markdown",
   "source": [
    "### Calculate the risk vulnerability VRI, failure occurrence capability, output, node weights, and comparative complexity indicators for all function nodes"
   ],
   "metadata": {
    "collapsed": false
   },
   "id": "29e71720fd9c5d6d"
  },
  {
   "cell_type": "code",
   "source": [
    "from experiment.functions import func_SortDictByValue\n",
    "\n",
    "AFOs = dict()\n",
    "AFPs = dict()\n",
    "ARs = dict()\n",
    "ARIs = dict()\n",
    "VRIs = dict()\n",
    "DRIs = dict()\n",
    "LOCs = dict()\n",
    "McCabes = dict()\n",
    "HalsteatHs = dict()\n",
    "HalsteatVs = dict()\n",
    "SSCCs = dict()\n",
    "\n",
    "Degrees = dict()\n",
    "InDegrees = dict()\n",
    "OutDegrees = dict()\n",
    "NodeWeights = dict()\n",
    "\n",
    "for softwareName, (status, language, src_dir) in SoftwareConfigs1.items():\n",
    "    if status:\n",
    "        G = Graphs[softwareName]\n",
    "        types = Types[softwareName]\n",
    "        \n",
    "        AFO = dict()\n",
    "        AFP = dict()\n",
    "        VRI = dict()\n",
    "        DRI = dict()\n",
    "        LOC = dict()\n",
    "        McCabe = dict()\n",
    "        SSCC = dict()\n",
    "        HalsteatH = dict()\n",
    "        HalsteatV = dict()\n",
    "        Degree = dict()\n",
    "        InDegree = dict()\n",
    "        OutDegree = dict()\n",
    "        NodeWeight = dict()\n",
    "        \n",
    "        hasVariable = False\n",
    "        for n, data in G.nodes(data=True):\n",
    "            if hasVariable or types[n] == 'Method':\n",
    "                AFO[n] = data['AFO']\n",
    "                AFP[n] = data['AFP']\n",
    "                VRI[n] = data['VRI']\n",
    "                DRI[n] = data['DRI']\n",
    "                LOC[n] = data['LOC']\n",
    "                McCabe[n] = data['McCabe']\n",
    "                SSCC[n] = data['sscc']\n",
    "                HalsteatH[n] = data['H']\n",
    "                HalsteatV[n] = data['V']\n",
    "                Degree[n] = G.degree(n)\n",
    "                InDegree[n] = G.in_degree(n)\n",
    "                OutDegree[n] = G.out_degree(n)\n",
    "                NodeWeight[n] = data['weight']\n",
    "            \n",
    "        AFOs[softwareName] = func_SortDictByValue(AFO)\n",
    "        AFPs[softwareName] = func_SortDictByValue(AFP)\n",
    "        VRIs[softwareName] = func_SortDictByValue(VRI)\n",
    "        DRIs[softwareName] = func_SortDictByValue(DRI)\n",
    "        LOCs[softwareName] = func_SortDictByValue(LOC)\n",
    "        McCabes[softwareName] = func_SortDictByValue(McCabe)\n",
    "        SSCCs[softwareName] = func_SortDictByValue(SSCC)\n",
    "        HalsteatHs[softwareName] = func_SortDictByValue(HalsteatH)\n",
    "        HalsteatVs[softwareName] = func_SortDictByValue(HalsteatV)\n",
    "        Degrees[softwareName] = func_SortDictByValue(Degree)\n",
    "        InDegrees[softwareName] = func_SortDictByValue(InDegree)\n",
    "        OutDegrees[softwareName] = func_SortDictByValue(OutDegree)\n",
    "        NodeWeights[softwareName] = func_SortDictByValue(NodeWeight)\n",
    "        \n",
    "print('Extraction of Node Risk Vulnerability Index and Node Complexity Index')"
   ],
   "metadata": {
    "collapsed": false,
    "ExecuteTime": {
     "end_time": "2024-05-22T07:35:54.042208Z",
     "start_time": "2024-05-22T07:35:53.932015Z"
    }
   },
   "id": "f755c37abdea4b08",
   "execution_count": 15,
   "outputs": []
  },
  {
   "cell_type": "markdown",
   "source": [
    "## Experiment 2: Effectiveness Analysis of Extracting Risk Fragile Nodes"
   ],
   "metadata": {
    "collapsed": false
   },
   "id": "14d05e0af970f278"
  },
  {
   "cell_type": "markdown",
   "source": [
    "### Set random attack experiment parameters"
   ],
   "metadata": {
    "collapsed": false
   },
   "id": "6170bd36d4719107"
  },
  {
   "cell_type": "markdown",
   "source": [],
   "metadata": {
    "collapsed": false
   },
   "id": "8cc3eaead1c928c8"
  },
  {
   "cell_type": "code",
   "source": [
    "Rounds = 100\n",
    "\n",
    "ErrNodeRate = 0.01\n"
   ],
   "metadata": {
    "collapsed": false,
    "ExecuteTime": {
     "end_time": "2024-05-22T07:35:54.057785Z",
     "start_time": "2024-05-22T07:35:54.042208Z"
    }
   },
   "id": "94163c6fa07ee322",
   "execution_count": 16,
   "outputs": []
  },
  {
   "cell_type": "markdown",
   "source": [
    "### Conduct random attack experiments"
   ],
   "metadata": {
    "collapsed": false
   },
   "id": "cf6be8900641ba9d"
  },
  {
   "cell_type": "code",
   "source": [
    "Softwares = [\n",
    "    'Nginx-1.22.1',\n",
    "    'Redis-7.2',\n",
    "    'Node.js-20.5.0',\n",
    "    'VLC-3.0.17'\n",
    "]\n"
   ],
   "metadata": {
    "collapsed": false,
    "ExecuteTime": {
     "end_time": "2024-05-22T07:35:54.073411Z",
     "start_time": "2024-05-22T07:35:54.057785Z"
    }
   },
   "id": "e99a3cc2eed10423",
   "execution_count": 17,
   "outputs": []
  },
  {
   "cell_type": "code",
   "source": [
    "from ccft.util.utils import serialize\n",
    "import pandas as pd\n",
    "from experiment.functions import func_get_edge_influence\n",
    "from experiment.algorithms.propagation_models.sir_epidemic import sir_epidemic\n",
    "import random\n",
    "from experiment.algorithms.propagation_models.independent_cascade import independent_cascade\n",
    "from experiment.algorithms.propagation_models.linear_threshold import linear_threshold\n",
    "\n",
    "df50 = pd.DataFrame(columns=['name', 'vri', 'loc', 'mc', 'sscc', 'h', 'v'])\n",
    "df45 = pd.DataFrame(columns=['name', 'vri', 'loc', 'mc', 'sscc', 'h', 'v'])\n",
    "df40 = pd.DataFrame(columns=['name', 'vri', 'loc', 'mc', 'sscc', 'h', 'v'])\n",
    "df35 = pd.DataFrame(columns=['name', 'vri', 'loc', 'mc', 'sscc', 'h', 'v'])\n",
    "df30 = pd.DataFrame(columns=['name', 'vri', 'loc', 'mc', 'sscc', 'h', 'v'])\n",
    "df25 = pd.DataFrame(columns=['name', 'vri', 'loc', 'mc', 'sscc', 'h', 'v'])\n",
    "df20 = pd.DataFrame(columns=['name', 'vri', 'loc', 'mc', 'sscc', 'h', 'v'])\n",
    "df15 = pd.DataFrame(columns=['name', 'vri', 'loc', 'mc', 'sscc', 'h', 'v'])\n",
    "df10 = pd.DataFrame(columns=['name', 'vri', 'loc', 'mc', 'sscc', 'h', 'v'])\n",
    "df5 = pd.DataFrame(columns=['name', 'vri', 'loc', 'mc', 'sscc', 'h', 'v'])\n",
    "  \n",
    "results = dict()\n",
    "\n",
    "idx = 0\n",
    "for softwareName, (status, language, src_dir) in SoftwareConfigs1.items():\n",
    "    if status:\n",
    "        G = Graphs[softwareName]\n",
    "        types = Types[softwareName]\n",
    "        results[softwareName] = dict()\n",
    "        \n",
    "        N = G.number_of_nodes()\n",
    "        M = int(N * 0.05)\n",
    "        \n",
    "        count50 = int(N*0.5)\n",
    "        count45 = int(N*0.45)\n",
    "        count40 = int(N * 0.4)\n",
    "        count35 = int(N * 0.35)\n",
    "        count30 = int(N * 0.3)\n",
    "        count25 = int(N * 0.25)\n",
    "        count20 = int(N * 0.2)\n",
    "        count15 = int(N * 0.15)\n",
    "        count10 = int(N * 0.1)\n",
    "        count5 = int(N * 0.05)\n",
    "    \n",
    "        nodes = list(G.nodes)\n",
    "        \n",
    "        vris50 = set(list(VRIs[softwareName].keys())[:count50])\n",
    "        afos50 = set(list(AFOs[softwareName].keys())[:count50])\n",
    "        locs50 = set(list(LOCs[softwareName].keys())[:count50])\n",
    "        mcs50 = set(list(McCabes[softwareName].keys())[:count50])\n",
    "        ssccs50 = set(list(SSCCs[softwareName].keys())[:count50])\n",
    "        hs50 = set(list(HalsteatHs[softwareName].keys())[:count50])\n",
    "        vs50 = set(list(HalsteatVs[softwareName].keys())[:count50])\n",
    "        \n",
    "        vris45 = set(list(VRIs[softwareName].keys())[:count45])\n",
    "        afos45 = set(list(AFOs[softwareName].keys())[:count45])\n",
    "        locs45 = set(list(LOCs[softwareName].keys())[:count45])\n",
    "        mcs45 = set(list(McCabes[softwareName].keys())[:count45])\n",
    "        ssccs45 = set(list(SSCCs[softwareName].keys())[:count45])\n",
    "        hs45 = set(list(HalsteatHs[softwareName].keys())[:count45])\n",
    "        vs45 = set(list(HalsteatVs[softwareName].keys())[:count45])\n",
    "        \n",
    "        vris40 = set(list(VRIs[softwareName].keys())[:count40])\n",
    "        afos40 = set(list(AFOs[softwareName].keys())[:count40])\n",
    "        locs40 = set(list(LOCs[softwareName].keys())[:count40])\n",
    "        mcs40 = set(list(McCabes[softwareName].keys())[:count40])\n",
    "        ssccs40 = set(list(SSCCs[softwareName].keys())[:count40])\n",
    "        hs40 = set(list(HalsteatHs[softwareName].keys())[:count40])\n",
    "        vs40 = set(list(HalsteatVs[softwareName].keys())[:count40])\n",
    "        \n",
    "        vris35 = set(list(VRIs[softwareName].keys())[:count35])\n",
    "        afos35 = set(list(AFOs[softwareName].keys())[:count35])\n",
    "        locs35 = set(list(LOCs[softwareName].keys())[:count35])\n",
    "        mcs35 = set(list(McCabes[softwareName].keys())[:count35])\n",
    "        ssccs35 = set(list(SSCCs[softwareName].keys())[:count35])\n",
    "        hs35 = set(list(HalsteatHs[softwareName].keys())[:count35])\n",
    "        vs35 = set(list(HalsteatVs[softwareName].keys())[:count35])\n",
    "        \n",
    "        vris30 = set(list(VRIs[softwareName].keys())[:count30])\n",
    "        afos30 = set(list(AFOs[softwareName].keys())[:count30])\n",
    "        locs30 = set(list(LOCs[softwareName].keys())[:count30])\n",
    "        mcs30 = set(list(McCabes[softwareName].keys())[:count30])\n",
    "        ssccs30 = set(list(SSCCs[softwareName].keys())[:count30])\n",
    "        hs30 = set(list(HalsteatHs[softwareName].keys())[:count30])\n",
    "        vs30 = set(list(HalsteatVs[softwareName].keys())[:count30])\n",
    "        \n",
    "        vris25 = set(list(VRIs[softwareName].keys())[:count25])\n",
    "        afos25 = set(list(AFOs[softwareName].keys())[:count25])\n",
    "        locs25 = set(list(LOCs[softwareName].keys())[:count25])\n",
    "        mcs25 = set(list(McCabes[softwareName].keys())[:count25])\n",
    "        ssccs25 = set(list(SSCCs[softwareName].keys())[:count25])\n",
    "        hs25 = set(list(HalsteatHs[softwareName].keys())[:count25])\n",
    "        vs25 = set(list(HalsteatVs[softwareName].keys())[:count25])\n",
    "        \n",
    "        vris20 = set(list(VRIs[softwareName].keys())[:count20])\n",
    "        afos20 = set(list(AFOs[softwareName].keys())[:count20])\n",
    "        locs20 = set(list(LOCs[softwareName].keys())[:count20])\n",
    "        mcs20 = set(list(McCabes[softwareName].keys())[:count20])\n",
    "        ssccs20 = set(list(SSCCs[softwareName].keys())[:count20])\n",
    "        hs20 = set(list(HalsteatHs[softwareName].keys())[:count20])\n",
    "        vs20 = set(list(HalsteatVs[softwareName].keys())[:count20])\n",
    "        \n",
    "        vris15 = set(list(VRIs[softwareName].keys())[:count15])\n",
    "        afos15 = set(list(AFOs[softwareName].keys())[:count15])\n",
    "        locs15 = set(list(LOCs[softwareName].keys())[:count15])\n",
    "        mcs15 = set(list(McCabes[softwareName].keys())[:count15])\n",
    "        ssccs15 = set(list(SSCCs[softwareName].keys())[:count15])\n",
    "        hs15 = set(list(HalsteatHs[softwareName].keys())[:count15])\n",
    "        vs15 = set(list(HalsteatVs[softwareName].keys())[:count15])\n",
    "        \n",
    "        vris10 = set(list(VRIs[softwareName].keys())[:count10])\n",
    "        afos10 = set(list(AFOs[softwareName].keys())[:count10])\n",
    "        locs10 = set(list(LOCs[softwareName].keys())[:count10])\n",
    "        mcs10 = set(list(McCabes[softwareName].keys())[:count10])\n",
    "        ssccs10 = set(list(SSCCs[softwareName].keys())[:count10])\n",
    "        hs10 = set(list(HalsteatHs[softwareName].keys())[:count10])\n",
    "        vs10 = set(list(HalsteatVs[softwareName].keys())[:count10])\n",
    "        \n",
    "        vris5 = set(list(VRIs[softwareName].keys())[:count5])\n",
    "        afos5 = set(list(AFOs[softwareName].keys())[:count5])\n",
    "        locs5 = set(list(LOCs[softwareName].keys())[:count5])\n",
    "        mcs5 = set(list(McCabes[softwareName].keys())[:count5])\n",
    "        ssccs5 = set(list(SSCCs[softwareName].keys())[:count5])\n",
    "        hs5 = set(list(HalsteatHs[softwareName].keys())[:count5])\n",
    "        vs5 = set(list(HalsteatVs[softwareName].keys())[:count5])\n",
    "        \n",
    "        wiInfluences = func_get_edge_influence(G, 'w-in-degree')\n",
    "        iInfluences = func_get_edge_influence(G, 'in-degree')\n",
    "        thresholds = dict.fromkeys(G.nodes, 0.5)\n",
    "        \n",
    "        counts = dict()\n",
    "        df50.loc[idx] = [softwareName, 0, 0, 0, 0, 0, 0]\n",
    "        df45.loc[idx] = [softwareName, 0, 0, 0, 0, 0, 0]\n",
    "        df40.loc[idx] = [softwareName, 0, 0, 0, 0, 0, 0]\n",
    "        df35.loc[idx] = [softwareName, 0, 0, 0, 0, 0, 0]\n",
    "        df30.loc[idx] = [softwareName, 0, 0, 0, 0, 0, 0]\n",
    "        df25.loc[idx] = [softwareName, 0, 0, 0, 0, 0, 0]\n",
    "        df20.loc[idx] = [softwareName, 0, 0, 0, 0, 0, 0]\n",
    "        df15.loc[idx] = [softwareName, 0, 0, 0, 0, 0, 0]\n",
    "        df10.loc[idx] = [softwareName, 0, 0, 0, 0, 0, 0]\n",
    "        df5.loc[idx] = [softwareName, 0, 0, 0, 0, 0, 0]\n",
    "        \n",
    "        print(f'{softwareName} randomly failed {M} nodes')\n",
    "        print(f'Execute {Rounds} random attacks')\n",
    "        for r in range(Rounds):\n",
    "            errNodes = random.sample(nodes, M)\n",
    "            \n",
    "            # ltNodes, ltRoundCounts, ltRoundNodes = linear_threshold(G, seeds=errNodes, influences=iInfluences, thresholds=thresholds)\n",
    "            # icNodes, icRoundCounts, icRoundNodes = independent_cascade(G, seeds=errNodes, influences=wiInfluences)\n",
    "            siNodes, siRoundCounts, siRoundNodes = sir_epidemic(G, seeds=errNodes, beta=0.1, gamma=0.0)\n",
    "            results[softwareName][r] = siNodes\n",
    "            \n",
    "            siNodes = set(siNodes)\n",
    "            \n",
    "            df50.loc[idx,'vri'] += len(vris50 & siNodes)\n",
    "            df50.loc[idx,'loc'] += len(locs50 & siNodes)\n",
    "            df50.loc[idx,'mc'] += len(mcs50 & siNodes)\n",
    "            df50.loc[idx,'sscc'] += len(ssccs50 & siNodes)\n",
    "            df50.loc[idx,'h'] += len(hs50 & siNodes)\n",
    "            df50.loc[idx,'v'] += len(vs50 & siNodes)\n",
    "            \n",
    "            df45.loc[idx,'vri'] += len(vris45 & siNodes)\n",
    "            df45.loc[idx,'loc'] += len(locs45 & siNodes)\n",
    "            df45.loc[idx,'mc'] += len(mcs45 & siNodes)\n",
    "            df45.loc[idx,'sscc'] += len(ssccs45 & siNodes)\n",
    "            df45.loc[idx,'h'] += len(hs45 & siNodes)\n",
    "            df45.loc[idx,'v'] += len(vs45 & siNodes)\n",
    "            \n",
    "            df40.loc[idx,'vri'] += len(vris40 & siNodes)\n",
    "            df40.loc[idx,'loc'] += len(locs40 & siNodes)\n",
    "            df40.loc[idx,'mc'] += len(mcs40 & siNodes)\n",
    "            df40.loc[idx,'sscc'] += len(ssccs40 & siNodes)\n",
    "            df40.loc[idx,'h'] += len(hs40 & siNodes)\n",
    "            df40.loc[idx,'v'] += len(vs40 & siNodes)\n",
    "            \n",
    "            df35.loc[idx,'vri'] += len(vris35 & siNodes)\n",
    "            df35.loc[idx,'loc'] += len(locs35 & siNodes)\n",
    "            df35.loc[idx,'mc'] += len(mcs35 & siNodes)\n",
    "            df35.loc[idx,'sscc'] += len(ssccs35 & siNodes)\n",
    "            df35.loc[idx,'h'] += len(hs35 & siNodes)\n",
    "            df35.loc[idx,'v'] += len(vs35 & siNodes)\n",
    "            \n",
    "            df30.loc[idx,'vri'] += len(vris30 & siNodes)\n",
    "            df30.loc[idx,'loc'] += len(locs30 & siNodes)\n",
    "            df30.loc[idx,'mc'] += len(mcs30 & siNodes)\n",
    "            df30.loc[idx,'sscc'] += len(ssccs30 & siNodes)\n",
    "            df30.loc[idx,'h'] += len(hs30 & siNodes)\n",
    "            df30.loc[idx,'v'] += len(vs30 & siNodes)\n",
    "            \n",
    "            df25.loc[idx,'vri'] += len(vris25 & siNodes)\n",
    "            df25.loc[idx,'loc'] += len(locs25 & siNodes)\n",
    "            df25.loc[idx,'mc'] += len(mcs25 & siNodes)\n",
    "            df25.loc[idx,'sscc'] += len(ssccs25 & siNodes)\n",
    "            df25.loc[idx,'h'] += len(hs25 & siNodes)\n",
    "            df25.loc[idx,'v'] += len(vs25 & siNodes)\n",
    "            \n",
    "            df20.loc[idx,'vri'] += len(vris20 & siNodes)\n",
    "            df20.loc[idx,'loc'] += len(locs20 & siNodes)\n",
    "            df20.loc[idx,'mc'] += len(mcs20 & siNodes)\n",
    "            df20.loc[idx,'sscc'] += len(ssccs20 & siNodes)\n",
    "            df20.loc[idx,'h'] += len(hs20 & siNodes)\n",
    "            df20.loc[idx,'v'] += len(vs20 & siNodes)\n",
    "            \n",
    "            df15.loc[idx,'vri'] += len(vris15 & siNodes)\n",
    "            df15.loc[idx,'loc'] += len(locs15 & siNodes)\n",
    "            df15.loc[idx,'mc'] += len(mcs15 & siNodes)\n",
    "            df15.loc[idx,'sscc'] += len(ssccs15 & siNodes)\n",
    "            df15.loc[idx,'h'] += len(hs15 & siNodes)\n",
    "            df15.loc[idx,'v'] += len(vs15 & siNodes)\n",
    "            \n",
    "            df10.loc[idx,'vri'] += len(vris10 & siNodes)\n",
    "            df10.loc[idx,'loc'] += len(locs10 & siNodes)\n",
    "            df10.loc[idx,'mc'] += len(mcs10 & siNodes)\n",
    "            df10.loc[idx,'sscc'] += len(ssccs10 & siNodes)\n",
    "            df10.loc[idx,'h'] += len(hs10 & siNodes)\n",
    "            df10.loc[idx,'v'] += len(vs10 & siNodes)\n",
    "            \n",
    "            df5.loc[idx,'vri'] += len(vris5 & siNodes)\n",
    "            df5.loc[idx,'loc'] += len(locs5 & siNodes)\n",
    "            df5.loc[idx,'mc'] += len(mcs5 & siNodes)\n",
    "            df5.loc[idx,'sscc'] += len(ssccs5 & siNodes)\n",
    "            df5.loc[idx,'h'] += len(hs5 & siNodes)\n",
    "            df5.loc[idx,'v'] += len(vs5 & siNodes)\n",
    "            pass\n",
    "        \n",
    "        idx += 1\n",
    "        \n",
    "df50[['vri', 'loc', 'mc', 'sscc', 'h', 'v']] /=  Rounds\n",
    "df45[['vri', 'loc', 'mc', 'sscc', 'h', 'v']] /=  Rounds\n",
    "df40[['vri', 'loc', 'mc', 'sscc', 'h', 'v']] /=  Rounds\n",
    "df35[['vri', 'loc', 'mc', 'sscc', 'h', 'v']] /=  Rounds\n",
    "df30[['vri', 'loc', 'mc', 'sscc', 'h', 'v']] /=  Rounds\n",
    "df25[['vri', 'loc', 'mc', 'sscc', 'h', 'v']] /=  Rounds\n",
    "df20[['vri', 'loc', 'mc', 'sscc', 'h', 'v']] /=  Rounds\n",
    "df15[['vri', 'loc', 'mc', 'sscc', 'h', 'v']] /=  Rounds\n",
    "df10[['vri', 'loc', 'mc', 'sscc', 'h', 'v']] /=  Rounds\n",
    "df5[['vri', 'loc', 'mc', 'sscc', 'h', 'v']] /=  Rounds\n",
    "df50.set_index('name',inplace=True)        \n",
    "df45.set_index('name',inplace=True)        \n",
    "df40.set_index('name',inplace=True)        \n",
    "df35.set_index('name',inplace=True)        \n",
    "df30.set_index('name',inplace=True)        \n",
    "df25.set_index('name',inplace=True)        \n",
    "df20.set_index('name',inplace=True)        \n",
    "df15.set_index('name',inplace=True)        \n",
    "df10.set_index('name',inplace=True)        \n",
    "df5.set_index('name',inplace=True)     \n",
    "\n"
   ],
   "metadata": {
    "collapsed": false,
    "ExecuteTime": {
     "end_time": "2024-05-22T07:36:11.505214Z",
     "start_time": "2024-05-22T07:35:54.073411Z"
    }
   },
   "id": "78227f9d94bce159",
   "execution_count": 18,
   "outputs": []
  },
  {
   "cell_type": "code",
   "source": [
    "import shutil\n",
    "\n",
    "saveDir = os.path.join(LabSpace, 'graph', 'VRI')\n",
    "if os.path.isdir(saveDir):\n",
    "    shutil.rmtree(saveDir)\n",
    "os.makedirs(saveDir)    "
   ],
   "metadata": {
    "collapsed": false,
    "ExecuteTime": {
     "end_time": "2024-05-22T07:36:11.521024Z",
     "start_time": "2024-05-22T07:36:11.505214Z"
    }
   },
   "id": "60807e16fe686726",
   "execution_count": 19,
   "outputs": []
  },
  {
   "cell_type": "code",
   "source": [
    "X = ['0', '5%', '10%', '15%', '20%', '25%', '30%', '35%', '40%','45%', '50%']\n",
    "labs = ['a', 'b', 'c', 'd', 'e', 'f', 'g', 'h', 'i']\n",
    "vriY = []\n",
    "\n",
    "idx = 0\n",
    "fig, axs = plt.subplots(3, 3, figsize=(18, 18))\n",
    "plt.subplots_adjust(hspace=0.25, wspace=0.23)\n",
    "\n",
    "for softwareName, (status, language, src_dir) in SoftwareConfigs1.items():\n",
    "    if status:\n",
    "        vriY = [0, df5.loc[softwareName, 'vri'], df10.loc[softwareName, 'vri'], df15.loc[softwareName, 'vri'], \n",
    "                df20.loc[softwareName, 'vri'], df25.loc[softwareName, 'vri'], df30.loc[softwareName, 'vri'], \n",
    "                df35.loc[softwareName, 'vri'], df40.loc[softwareName, 'vri'], df45.loc[softwareName, 'vri'], \n",
    "                df50.loc[softwareName, 'vri']]\n",
    "        locY = [0, df5.loc[softwareName, 'loc'], df10.loc[softwareName, 'loc'], df15.loc[softwareName, 'loc'], \n",
    "                df20.loc[softwareName, 'loc'], df25.loc[softwareName, 'loc'], df30.loc[softwareName, 'loc'], \n",
    "                df35.loc[softwareName, 'loc'], df40.loc[softwareName, 'loc'], df45.loc[softwareName, 'loc'],\n",
    "                df50.loc[softwareName, 'loc']]\n",
    "        mcY = [0, df5.loc[softwareName, 'mc'], df10.loc[softwareName, 'mc'], df15.loc[softwareName, 'mc'], \n",
    "               df20.loc[softwareName, 'mc'], df25.loc[softwareName, 'mc'], df30.loc[softwareName, 'mc'], \n",
    "               df35.loc[softwareName, 'mc'], df40.loc[softwareName, 'mc'], df45.loc[softwareName, 'mc'],\n",
    "               df50.loc[softwareName, 'mc']]\n",
    "        ssccY = [0, df5.loc[softwareName, 'sscc'], df10.loc[softwareName, 'sscc'], df15.loc[softwareName, 'sscc'], \n",
    "                 df20.loc[softwareName, 'sscc'], df25.loc[softwareName, 'sscc'], df30.loc[softwareName, 'sscc'], \n",
    "                 df35.loc[softwareName, 'sscc'], df40.loc[softwareName, 'sscc'], df45.loc[softwareName, 'sscc'],\n",
    "                 df50.loc[softwareName, 'sscc']]\n",
    "        hY = [0, df5.loc[softwareName, 'h'], df10.loc[softwareName, 'h'], df15.loc[softwareName, 'h'], \n",
    "              df20.loc[softwareName, 'h'], df25.loc[softwareName, 'h'], df30.loc[softwareName, 'h'], \n",
    "              df35.loc[softwareName, 'h'], df40.loc[softwareName, 'h'], df45.loc[softwareName, 'h'], \n",
    "              df50.loc[softwareName, 'h']]\n",
    "        vY = [0, df5.loc[softwareName, 'v'], df10.loc[softwareName, 'v'], df15.loc[softwareName, 'v'], \n",
    "              df20.loc[softwareName, 'v'], df25.loc[softwareName, 'v'], df30.loc[softwareName, 'v'], \n",
    "              df35.loc[softwareName, 'v'], df40.loc[softwareName, 'v'], df45.loc[softwareName, 'v'],\n",
    "              df50.loc[softwareName, 'v']]\n",
    "        \n",
    "        ax = axs[int(idx / 3), idx % 3]\n",
    "        ax.plot(X, vriY, label='VRI')\n",
    "        ax.plot(X, locY, label='LOC')\n",
    "        ax.plot(X, mcY, label='McCabe')\n",
    "        ax.plot(X, ssccY, label='SSCC')\n",
    "        ax.plot(X, hY, label='H')\n",
    "        ax.plot(X, vY, label='V')\n",
    "        ax.legend(loc='best')\n",
    "        \n",
    "        ax.set_ylabel('Number of affected individuals', fontdict={'size': 12})\n",
    "        ax.set_title(f'{labs[idx]}) {softwareName}', y=-0.15, fontdict={'family': 'Times New Roman', 'size': 18})\n",
    "        \n",
    "        df = pd.DataFrame()\n",
    "        df['rate'] = X\n",
    "        df['VRI'] = vriY\n",
    "        df['LOC'] = locY\n",
    "        df['McCabe'] = mcY\n",
    "        df['SSCC'] = ssccY\n",
    "        df['H'] = hY\n",
    "        df['V'] = vY\n",
    "        df.to_csv(os.path.join(saveDir, f'{softwareName}.csv'))\n",
    "        \n",
    "        idx += 1\n",
    "    "
   ],
   "metadata": {
    "collapsed": false,
    "ExecuteTime": {
     "end_time": "2024-05-22T07:36:12.469234Z",
     "start_time": "2024-05-22T07:36:11.521024Z"
    }
   },
   "id": "73a2643b0fbbd792",
   "execution_count": 20,
   "outputs": []
  },
  {
   "cell_type": "code",
   "source": [
    "serialize(os.path.join(LabSpace, '.vri', 'sim-results.bin'), results)\n",
    "df50.to_csv(os.path.join(LabSpace, '.vri', 'si-50.csv'))\n",
    "df40.to_csv(os.path.join(LabSpace, '.vri', 'si-40.csv'))\n",
    "df30.to_csv(os.path.join(LabSpace, '.vri', 'si-30.csv'))\n",
    "df15.to_csv(os.path.join(LabSpace, '.vri', 'si-15.csv'))\n",
    "df10.to_csv(os.path.join(LabSpace, '.vri', 'si-10.csv'))\n",
    "df5.to_csv(os.path.join(LabSpace, '.vri', 'si-5.csv'))\n"
   ],
   "metadata": {
    "collapsed": false,
    "ExecuteTime": {
     "end_time": "2024-05-22T07:36:12.548099Z",
     "start_time": "2024-05-22T07:36:12.469234Z"
    }
   },
   "id": "971a93c3219a21ca",
   "execution_count": 21,
   "outputs": []
  },
  {
   "metadata": {
    "ExecuteTime": {
     "end_time": "2024-05-22T07:36:12.563728Z",
     "start_time": "2024-05-22T07:36:12.548099Z"
    }
   },
   "cell_type": "code",
   "source": [],
   "id": "d6434ef3a762ddda",
   "execution_count": 21,
   "outputs": []
  }
 ],
 "metadata": {
  "kernelspec": {
   "display_name": "Python 3",
   "language": "python",
   "name": "python3"
  },
  "language_info": {
   "codemirror_mode": {
    "name": "ipython",
    "version": 2
   },
   "file_extension": ".py",
   "mimetype": "text/x-python",
   "name": "python",
   "nbconvert_exporter": "python",
   "pygments_lexer": "ipython2",
   "version": "2.7.6"
  }
 },
 "nbformat": 4,
 "nbformat_minor": 5
}
