{
 "cells": [
  {
   "cell_type": "markdown",
   "source": [
    "# 5.3.1 Analysis of Version Characteristics of VRI and DRI"
   ],
   "metadata": {
    "collapsed": false
   },
   "id": "e6cfeed0f4d4f375"
  },
  {
   "cell_type": "code",
   "id": "initial_id",
   "metadata": {
    "collapsed": true,
    "ExecuteTime": {
     "end_time": "2024-05-22T07:32:56.912036Z",
     "start_time": "2024-05-22T07:32:56.623842Z"
    }
   },
   "source": [
    "from matplotlib import pyplot as plt\n",
    "plt.rcParams['font.sans-serif'] = ['Microsoft YaHei']\n",
    "plt.rcParams['axes.unicode_minus'] = False\n",
    "shapes = ['o', 'v', '^', '<', '>', 's', 'p', '*', 'h', '+']\n",
    "colors = ['red', 'blue', 'green', 'orange', 'purple', 'cyan', 'magenta', 'darkgreen', 'chocolate']"
   ],
   "execution_count": 1,
   "outputs": []
  },
  {
   "cell_type": "markdown",
   "source": [
    "## Read network data"
   ],
   "metadata": {
    "collapsed": false
   },
   "id": "868bc927d29ebc7"
  },
  {
   "cell_type": "code",
   "source": [
    "from experiment.functions import func_get_lab_graph, save_graph\n",
    "from experiment.lab2._0_config_ import LabSpace, SoftwareConfigs2\n",
    "import os\n",
    "\n",
    "Graphs = dict()\n",
    "Labels = dict()\n",
    "Types = dict()\n",
    "\n",
    "DRIs = dict()\n",
    "VRIs = dict()\n",
    "\n",
    "for softwareName, (status, language, src_dir) in SoftwareConfigs2.items():\n",
    "    if status:\n",
    "        modelDir = os.path.join(LabSpace, softwareName)\n",
    "        labDir = os.path.join(modelDir, '.lab2')\n",
    "        \n",
    "        G, labelDict, _, typeDict = func_get_lab_graph(modelDir, labDir, softwareName)\n",
    "        Graphs[softwareName] = G\n",
    "        Labels[softwareName] = labelDict\n",
    "        Types[softwareName] = typeDict\n",
    "        \n",
    "        DRIs[softwareName] = dict(G.nodes.data('DRI'))\n",
    "        VRIs[softwareName] = dict(G.nodes.data('VRI'))\n",
    "        \n",
    "        print(f'{softwareName} read completed')\n",
    "        "
   ],
   "metadata": {
    "collapsed": false,
    "ExecuteTime": {
     "end_time": "2024-05-22T07:32:57.751642Z",
     "start_time": "2024-05-22T07:32:56.912036Z"
    }
   },
   "id": "548e184d405af389",
   "execution_count": 2,
   "outputs": []
  },
  {
   "cell_type": "code",
   "source": [
    "Software1Dict = {\n",
    "    'Nginx': ['Nginx-1.22.1', 'Nginx-1.21.1', 'Nginx-1.20.0', 'Nginx-1.19.0'],\n",
    "    'Redis': ['Redis-7.0.12', 'Redis-7.0.11', 'Redis-7.0.10', 'Redis-7.0.9'],\n",
    "    'Node.js': ['Node.js-20.5.0', 'Node.js-20.4.0', 'Node.js-20.3.0', 'Node.js-20.2.0'],\n",
    "    'VLC': ['VLC-3.0.17', 'VLC-3.0.16', 'VLC-3.0.15', 'VLC-3.0.14']\n",
    "}\n",
    "\n",
    "Softwares = [\n",
    "    'Nginx-1.22.1',\n",
    "    'Redis-7.0.12',\n",
    "    'Node.js-20.5.0',\n",
    "    'VLC-3.0.17'\n",
    "]\n",
    "\n",
    "labs = ['a', 'b', 'c', 'd', 'e', 'f', 'g', 'h', 'i']\n"
   ],
   "metadata": {
    "collapsed": false,
    "ExecuteTime": {
     "end_time": "2024-05-22T07:32:57.767241Z",
     "start_time": "2024-05-22T07:32:57.751709Z"
    }
   },
   "id": "f0879959beca807b",
   "execution_count": 3,
   "outputs": []
  },
  {
   "cell_type": "markdown",
   "source": [
    "## Draw different versions of VRI and DRI images"
   ],
   "metadata": {
    "collapsed": false
   },
   "id": "686454b69ef0e13"
  },
  {
   "cell_type": "code",
   "source": [
    "from experiment.functions import func_SortDictByValue, func_std\n",
    "from matplotlib import pyplot as plt\n",
    "import numpy as np\n",
    "import pandas as pd\n",
    "import os\n",
    "\n",
    "idx = 0\n",
    "figVRI, axsVRI = plt.subplots(2, 2, figsize=(15, 9))\n",
    "plt.subplots_adjust(hspace=0.34, wspace=0.2)\n",
    "\n",
    "figDRI, axsDRI = plt.subplots(2, 2, figsize=(15, 9))\n",
    "plt.subplots_adjust(hspace=0.34, wspace=0.2)\n",
    "\n",
    "for _name in Software1Dict:\n",
    "    versions = Software1Dict[_name]\n",
    "    \n",
    "    axVRI = axsVRI[int(idx / 2), idx % 2]\n",
    "    axDRI = axsDRI[int(idx / 2), idx % 2]\n",
    "    \n",
    "    idx += 1\n",
    "\n",
    "    i = 0\n",
    "    count = 100\n",
    "    \n",
    "    VRIDf = pd.DataFrame(\n",
    "        columns=pd.MultiIndex.from_product(\n",
    "               [versions, ['id', 'val', 'label']]\n",
    "           )\n",
    "    )\n",
    "    DRIDf = pd.DataFrame()\n",
    "    \n",
    "    for softwareName in versions:\n",
    "        G = Graphs[softwareName]\n",
    "        labelDict = Labels[softwareName]\n",
    "        print(f'Loading software {softwareName}')\n",
    "        \n",
    "        SortedVRI = func_SortDictByValue(VRIs[softwareName])\n",
    "        VRIIds = list(SortedVRI.keys())[:count]\n",
    "        VRIVals = list(SortedVRI.values())[:count]\n",
    "        VRIVals = [round(np.sqrt(10 * n), 2) for n in VRIVals]\n",
    "        VRILabels = [labelDict[n] for n in VRIIds]\n",
    "        \n",
    "        SortedDRI = func_SortDictByValue(DRIs[softwareName])\n",
    "        DRIIds = list(SortedDRI.keys())[:count]\n",
    "        DRIVals = list(SortedDRI.values())[:count]\n",
    "        DRIVals = [round(np.sqrt(10 * n), 2) for n in DRIVals]\n",
    "        DRILabels = [labelDict[n] for n in DRIIds]\n",
    "        \n",
    "        VRIDf[softwareName, 'id'] = VRIIds\n",
    "        VRIDf[softwareName, 'val'] = VRIVals\n",
    "        VRIDf[softwareName, 'label'] = VRILabels\n",
    "        \n",
    "        DRIDf[softwareName, 'id'] = DRIIds\n",
    "        DRIDf[softwareName, 'val'] = DRIVals\n",
    "        DRIDf[softwareName, 'label'] = DRILabels\n",
    "        \n",
    "        X = range(count)\n",
    "        axVRI.plot(X, VRIVals, label=softwareName, marker=shapes[i], color=colors[i])\n",
    "        axDRI.plot(X, DRIVals, label=softwareName, marker=shapes[i], color=colors[i])\n",
    "        i += 1\n",
    "        \n",
    "        axVRI.set_xlabel('Function', fontdict={'size': 12})\n",
    "        axVRI.set_ylabel('VRI', fontdict={'size': 12})\n",
    "        axVRI.set_title(f'{labs[idx]}) {_name}', y=-0.28, fontdict={'family': 'Times New Roman', 'size': 18})\n",
    "        \n",
    "        axDRI.set_xlabel('Function', fontdict={'size': 12})\n",
    "        axDRI.set_ylabel('DRI', fontdict={'size': 12})\n",
    "        axDRI.set_title(f'{labs[idx]}) {_name}', y=-0.28, fontdict={'family': 'Times New Roman', 'size': 18})\n",
    "    \n",
    "    axVRI.legend()\n",
    "    axDRI.legend()\n",
    "    VRIDf.to_csv(os.path.join(LabSpace, f'{_name}-vri-version.csv'))\n",
    "    DRIDf.to_csv(os.path.join(LabSpace, f'{_name}-dri-version.csv'))\n",
    "    \n",
    "figVRI.show()    \n",
    "figDRI.show()    \n",
    "    "
   ],
   "metadata": {
    "collapsed": false,
    "ExecuteTime": {
     "end_time": "2024-05-22T07:32:58.535536Z",
     "start_time": "2024-05-22T07:32:57.767241Z"
    }
   },
   "id": "4b27456b26b69b4e",
   "execution_count": 4,
   "outputs": []
  },
  {
   "cell_type": "markdown",
   "source": [
    "### Record the top 10 nodes ranked in VRI and DRI"
   ],
   "metadata": {
    "collapsed": false
   },
   "id": "8dd2944d3b68fa58"
  },
  {
   "cell_type": "code",
   "source": [
    "import pandas as pd\n",
    "\n",
    "# figVRI, axsVRI = plt.subplots(2, 2, figsize=(20, 10))\n",
    "# figDRI, axsDRI = plt.subplots(2, 2, figsize=(20, 10))\n",
    "\n",
    "idx = 0\n",
    "\n",
    "dfsVRI = dict()\n",
    "dfsDRI = dict()\n",
    "dfsCount = 10\n",
    "\n",
    "mainVersions = ['Nginx-1.22.1', 'Redis-7.0.12']\n",
    "\n",
    "for _name in ['Nginx', 'Redis']:\n",
    "    versions = Software1Dict[_name]\n",
    "    cols = list(versions)\n",
    "    cols.insert(0, 'name')\n",
    "    \n",
    "    dfsVRI[_name] = pd.DataFrame(columns=cols)\n",
    "    dfsDRI[_name] = pd.DataFrame(columns=cols)\n",
    "    \n",
    "    # axVRI = axsVRI[int(idx / 2), idx % 2]\n",
    "    # axDRI = axsDRI[int(idx / 2), idx % 2]\n",
    "    \n",
    "    labelVRIX = None\n",
    "    labelDRIX = None\n",
    "    \n",
    "    i = 0\n",
    "    count = 100\n",
    "    tCount = 30\n",
    "    \n",
    "    for softwareName in versions:\n",
    "        G = Graphs[softwareName]\n",
    "        labelDict = Labels[softwareName]\n",
    "        \n",
    "        print(f'Loading software {softwareName}')\n",
    "        \n",
    "        SortedVRI = func_SortDictByValue(VRIs[softwareName])\n",
    "        VRIIds = list(SortedVRI.keys())[:count]\n",
    "        VRIVals = list(SortedVRI.values())[:count]\n",
    "        VRIVals = [round(np.sqrt(10 * n), 2) for n in VRIVals]\n",
    "        VRILabels = [labelDict[n] for n in VRIIds]\n",
    "        \n",
    "        SortedDRI = func_SortDictByValue(DRIs[softwareName])\n",
    "        DRIIds = list(SortedDRI.keys())[:count]\n",
    "        DRIVals = list(SortedDRI.values())[:count]\n",
    "        DRIVals = [round(np.sqrt(10 * n), 2) for n in DRIVals]\n",
    "        DRILabels = [labelDict[n] for n in DRIIds]\n",
    "        \n",
    "        if softwareName in mainVersions:\n",
    "            _bName = softwareName\n",
    "            \n",
    "            labelVRIX = VRILabels[:tCount]\n",
    "            valVRIY = VRIVals[:tCount]\n",
    "            dfsVRI[_name]['name'] = labelVRIX[:dfsCount]\n",
    "            vals = []\n",
    "            for j in range(dfsCount):\n",
    "                vals.append(f'{j+1}/{valVRIY[j]}')\n",
    "            dfsVRI[_name][softwareName] = vals\n",
    "    \n",
    "            labelDRIX = DRILabels[:tCount]\n",
    "            valDRIY = DRIVals[:tCount]\n",
    "            dfsDRI[_name]['name'] = labelDRIX[:dfsCount]\n",
    "            vals = []\n",
    "            for j in range(dfsCount):\n",
    "                vals.append(f'{j+1}/{valDRIY[j]}')\n",
    "            dfsDRI[_name][softwareName] = vals\n",
    "        else:\n",
    "            valVRIY = []\n",
    "            j = 0\n",
    "            vals = []\n",
    "            for label in labelVRIX:\n",
    "                tIdx = -1\n",
    "                lb = None\n",
    "                if label in VRILabels:\n",
    "                    tIdx = VRILabels.index(label)\n",
    "                    lb = VRIVals[tIdx]\n",
    "                valVRIY.append(lb)\n",
    "                if j < 10:\n",
    "                    vals.append(f'{tIdx+1}/{lb}')\n",
    "                j+=1\n",
    "            dfsVRI[_name][softwareName] = vals\n",
    "                \n",
    "            valDRIY = []\n",
    "            j = 0\n",
    "            vals = []\n",
    "            for label in labelDRIX:\n",
    "                tIdx = -1\n",
    "                lb = None\n",
    "                \n",
    "                if label in DRILabels:\n",
    "                    tIdx = DRILabels.index(label)\n",
    "                    lb = DRIVals[tIdx]\n",
    "                valDRIY.append(lb)\n",
    "                if j < 10:\n",
    "                    vals.append(f'{tIdx+1}/{lb}')\n",
    "                j+=1\n",
    "            dfsDRI[_name][softwareName] = vals\n",
    "        \n",
    "        # axVRI.scatter(range(1, tCount+1), valVRIY, label=softwareName, marker=shapes[i], color=colors[i])\n",
    "        # axDRI.plot(range(1, tCount+1), valDRIY, label=softwareName, marker=shapes[i], color=colors[i])\n",
    "        i += 1\n",
    "        \n",
    "    # axVRI.set_title(f'Based on {_fName}')\n",
    "    # axDRI.set_title(f'Based on {_fName}')\n",
    "    # axVRI.legend()\n",
    "    # axDRI.legend()\n",
    "    \n",
    "    idx += 1    "
   ],
   "metadata": {
    "collapsed": false,
    "ExecuteTime": {
     "end_time": "2024-05-22T07:32:58.566786Z",
     "start_time": "2024-05-22T07:32:58.535536Z"
    }
   },
   "id": "512609b460362426",
   "execution_count": 5,
   "outputs": []
  },
  {
   "cell_type": "code",
   "source": [
    "dfsVRI['Nginx'].to_csv(os.path.join(LabSpace, 'Nginx.vri.csv'))\n",
    "dfsDRI['Nginx'].to_csv(os.path.join(LabSpace, 'Nginx.dri.csv'))\n",
    "dfsVRI['Redis'].to_csv(os.path.join(LabSpace, 'Redis.vri.csv'))\n",
    "dfsDRI['Redis'].to_csv(os.path.join(LabSpace, 'Redis.dri.csv'))\n"
   ],
   "metadata": {
    "collapsed": false,
    "ExecuteTime": {
     "end_time": "2024-05-22T07:32:58.582410Z",
     "start_time": "2024-05-22T07:32:58.566786Z"
    }
   },
   "id": "33946707d1d02bf",
   "execution_count": 6,
   "outputs": []
  },
  {
   "cell_type": "code",
   "source": [
    "dfsVRI['Nginx']"
   ],
   "metadata": {
    "collapsed": false,
    "ExecuteTime": {
     "end_time": "2024-05-22T07:32:58.598035Z",
     "start_time": "2024-05-22T07:32:58.582410Z"
    }
   },
   "id": "db2913b721f7be81",
   "execution_count": 7,
   "outputs": []
  },
  {
   "cell_type": "code",
   "source": [
    "dfsDRI['Redis']"
   ],
   "metadata": {
    "collapsed": false,
    "ExecuteTime": {
     "end_time": "2024-05-22T07:32:58.613660Z",
     "start_time": "2024-05-22T07:32:58.598035Z"
    }
   },
   "id": "5077202dba249202",
   "execution_count": 8,
   "outputs": []
  },
  {
   "cell_type": "code",
   "source": [],
   "metadata": {
    "collapsed": false,
    "ExecuteTime": {
     "end_time": "2024-05-22T07:32:58.629285Z",
     "start_time": "2024-05-22T07:32:58.613660Z"
    }
   },
   "id": "f76b81d99cad0182",
   "execution_count": 8,
   "outputs": []
  }
 ],
 "metadata": {
  "kernelspec": {
   "display_name": "Python 3",
   "language": "python",
   "name": "python3"
  },
  "language_info": {
   "codemirror_mode": {
    "name": "ipython",
    "version": 2
   },
   "file_extension": ".py",
   "mimetype": "text/x-python",
   "name": "python",
   "nbconvert_exporter": "python",
   "pygments_lexer": "ipython2",
   "version": "2.7.6"
  }
 },
 "nbformat": 4,
 "nbformat_minor": 5
}
