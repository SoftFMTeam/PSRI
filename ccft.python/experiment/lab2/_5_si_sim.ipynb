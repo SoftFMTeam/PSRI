{
 "cells": [
  {
   "cell_type": "code",
   "id": "initial_id",
   "metadata": {
    "collapsed": true,
    "ExecuteTime": {
     "end_time": "2024-05-23T12:04:44.235341Z",
     "start_time": "2024-05-23T12:04:43.950060Z"
    }
   },
   "source": [
    "from matplotlib import pyplot as plt\n",
    "\n",
    "plt.rcParams['font.sans-serif'] = ['Microsoft YaHei']\n",
    "plt.rcParams['axes.unicode_minus'] = False\n",
    "\n",
    "shapes = ['o', 'v', '^', '<', '>', 's', 'p', '*', 'h', '+']\n",
    "colors = ['red', 'blue', 'green', 'orange', 'purple', 'cyan', 'magenta', 'darkgreen', 'chocolate']"
   ],
   "execution_count": 1,
   "outputs": []
  },
  {
   "cell_type": "code",
   "source": [
    "DRIs = dict()\n",
    "VRIs = dict()\n",
    "VPlusDs = dict()\n",
    "VMulDs = dict()\n",
    "DCs = dict()\n",
    "BCs = dict()\n",
    "CCs = dict()\n",
    "PGs = dict()\n",
    "ERs = dict()\n",
    "GCs = dict()\n",
    "GCDs = dict()\n",
    "GGCs = dict()\n",
    "GGCDs = dict()\n",
    "iFits = dict()\n",
    "\n",
    "AFOs = dict()\n",
    "AFPs = dict()\n",
    "\n",
    "import os\n",
    "\n",
    "from experiment.functions import func_get_lab_graph\n",
    "from experiment.lab2._0_config_ import SoftwareConfigs1, LabSpace\n",
    "\n",
    "Graphs = dict()\n",
    "Labels = dict()\n",
    "Types = dict()\n",
    "\n",
    "\n",
    "for softwareName, (status, language, src_dir) in SoftwareConfigs1.items():\n",
    "    if status:\n",
    "        modelDir = os.path.join(LabSpace, softwareName)\n",
    "        labDir = os.path.join(modelDir, '.lab2')\n",
    "\n",
    "        if not os.path.isdir(labDir):\n",
    "            os.makedirs(labDir, exist_ok=True)\n",
    "\n",
    "        G, labelDict, _, typeDict = func_get_lab_graph(modelDir, labDir, softwareName)\n",
    "        Graphs[softwareName] = G\n",
    "        Labels[softwareName] = labelDict\n",
    "        Types[softwareName] = typeDict\n",
    "        \n",
    "        DRIs[softwareName] = dict(G.nodes.data('DRI'))\n",
    "        VRIs[softwareName] = dict(G.nodes.data('VRI'))\n",
    "        VPlusDs[softwareName] = dict(G.nodes.data('VPlusD'))\n",
    "        VMulDs[softwareName] = dict(G.nodes.data('VMulD'))\n",
    "        \n",
    "        DCs[softwareName] = dict(G.nodes.data('dc'))\n",
    "        BCs[softwareName] = dict(G.nodes.data('bc'))\n",
    "        CCs[softwareName] = dict(G.nodes.data('cc'))\n",
    "        PGs[softwareName] = dict(G.nodes.data('pg'))\n",
    "        ERs[softwareName] = dict(G.nodes.data('er'))\n",
    "        GCs[softwareName] = dict(G.nodes.data('gc'))\n",
    "        GCDs[softwareName] = dict(G.nodes.data('gcd'))\n",
    "        GGCs[softwareName] = dict(G.nodes.data('ggc'))\n",
    "        GGCDs[softwareName] = dict(G.nodes.data('ggcd'))\n",
    "        iFits[softwareName] = dict(G.nodes.data('iFit'))\n",
    "        \n",
    "        AFOs[softwareName] = dict(G.nodes.data('AFO'))\n",
    "        AFPs[softwareName] = dict(G.nodes.data('AFP'))\n",
    "\n",
    "print('Extract data for risk diffusion experiments')"
   ],
   "metadata": {
    "collapsed": false,
    "ExecuteTime": {
     "end_time": "2024-05-23T12:04:46.043608Z",
     "start_time": "2024-05-23T12:04:45.205477Z"
    }
   },
   "id": "2f611ce9bef1f8b3",
   "execution_count": 2,
   "outputs": []
  },
  {
   "cell_type": "markdown",
   "source": [
    "# SI Infectious Disease Model"
   ],
   "metadata": {
    "collapsed": false
   },
   "id": "59c861bfdfbc198"
  },
  {
   "cell_type": "markdown",
   "source": [
    "## Parameter settings"
   ],
   "metadata": {
    "collapsed": false
   },
   "id": "2174b8bed4d523cb"
  },
  {
   "cell_type": "code",
   "source": [
    "TestMethods = [\n",
    "    ('DRI', DRIs),\n",
    "    ('VRI', VRIs),\n",
    "    ('DC', DCs),\n",
    "    ('BC', BCs),\n",
    "    ('VPlusD', VPlusDs),\n",
    "    ('VMulD', VMulDs),\n",
    "    # ('CC', CCs),\n",
    "    # ('PageRank', PGs),\n",
    "    # ('ElementRank', ERs),\n",
    "    ('GC', GCs),\n",
    "    ('$GC_d$', GCDs),\n",
    "    ('GGC', GGCs),\n",
    "    ('$GGC_d$', GGCDs),\n",
    "    ('iFit', iFits),\n",
    "]\n",
    "\n",
    "Thresholds = dict()\n",
    "Influences = dict()\n",
    "\n",
    "for softwareName, (status, language, src_dir) in SoftwareConfigs1.items():\n",
    "    if status:\n",
    "        G = Graphs[softwareName]\n",
    "        afos = AFOs[softwareName]\n",
    "        afps = AFPs[softwareName]\n",
    "        \n",
    "        influences = dict()\n",
    "        for (u, v) in G.edges():\n",
    "            influences[(u, v)] = afos[u] * afps[v]\n",
    "        Influences[softwareName] = influences\n",
    "        # Influences[softwareName] = func_get_edge_influence(G, 'w-in-degree')\n",
    "        Thresholds[softwareName] = {node: 0.5 for node in G.nodes}\n",
    "        pass\n",
    "\n",
    "SISimDir = os.path.join(LabSpace, '.sim.SI')\n",
    "if not os.path.isdir(SISimDir):\n",
    "    os.mkdir(SISimDir)"
   ],
   "metadata": {
    "collapsed": false,
    "ExecuteTime": {
     "end_time": "2024-05-23T12:04:50.250938Z",
     "start_time": "2024-05-23T12:04:50.225229Z"
    }
   },
   "id": "3084fb9f9dd8a9b0",
   "execution_count": 3,
   "outputs": []
  },
  {
   "cell_type": "markdown",
   "source": [
    "\n",
    "## simulation experiment"
   ],
   "metadata": {
    "collapsed": false
   },
   "id": "1607522b852bd868"
  },
  {
   "cell_type": "markdown",
   "source": [
    "### Calculate network efficiency"
   ],
   "metadata": {
    "collapsed": false
   },
   "id": "d9c08c40484a6619"
  },
  {
   "cell_type": "code",
   "source": [
    "import copy\n",
    "from experiment.algorithms.utils import cal_network_efficiency, cal_network_complexity\n",
    "from experiment.functions import func_SortDictByValue\n",
    "from experiment.algorithms.propagation_models.sir_epidemic import sir_epidemic\n",
    "import pandas as pd\n",
    "\n",
    "TestMethods_ = ['DRI', 'VRI', 'VPlusD', 'VMul'\n",
    "                                        'D', 'DC', 'BC', 'GC', 'GGC', '$GC_d$', '$GGC_d$', 'iFit']\n",
    "cols = ['name'] + TestMethods_\n",
    "dfEfficiency = pd.DataFrame(columns=cols)\n",
    "dfComplexity = pd.DataFrame(columns=cols)\n",
    "\n",
    "\n",
    "+Steps = 100\n",
    "\n",
    "SimThreshold = 0.05\n",
    "\n",
    "SimCount = 100\n",
    "\n",
    "idx = 0\n",
    "for softwareName, (status, language, src_dir) in SoftwareConfigs1.items():\n",
    "    if status:\n",
    "        G = Graphs[softwareName] \n",
    "        labels = Labels[softwareName]\n",
    "        types = Types[softwareName]\n",
    "        N = G.number_of_nodes()\n",
    "        \n",
    "        efficiencyDict = {\n",
    "            'name': softwareName\n",
    "        }\n",
    "        complexityDict = {\n",
    "            'name': softwareName\n",
    "        }\n",
    "        \n",
    "        srcEfficiency = cal_network_efficiency(G)\n",
    "        srcComplexity = cal_network_complexity(G)\n",
    "        \n",
    "        if isinstance(SimThreshold, float) and 0 <= SimThreshold <= 1:\n",
    "            seedsCount = int(G.number_of_nodes() * SimThreshold)\n",
    "        elif isinstance(SimThreshold, int) and 0 < SimThreshold < N:\n",
    "            seedsCount = SimThreshold\n",
    "        else:\n",
    "            seedsCount = int(N * 0.15)\n",
    "        \n",
    "        print(f'处理软件 {softwareName}')\n",
    "        for methodName, methods in TestMethods:\n",
    "            if methodName not in TestMethods_:\n",
    "                continue\n",
    "                \n",
    "            method = methods[softwareName]\n",
    "            SortedMethod = func_SortDictByValue(method)\n",
    "            SortedMethodIds = list(SortedMethod.keys())\n",
    "            seeds = SortedMethodIds[:seedsCount]\n",
    "            print(f'\\t处理方法 {methodName}')\n",
    "            \n",
    "            totalEfficiency = 0.0\n",
    "            totalComplexity = 0.0\n",
    "            for i in range(SimCount):\n",
    "                simNodes, simRoundCounts, simRoundNodes = sir_epidemic(G, seeds=seeds, step=Steps, beta=0.1, gamma=0.0) \n",
    "                tG = copy.deepcopy(G)\n",
    "                tG.remove_nodes_from(simNodes)\n",
    "                tEfficiency = cal_network_efficiency(tG)\n",
    "                totalEfficiency += tEfficiency\n",
    "                tComplexity = cal_network_complexity(tG)\n",
    "                totalComplexity += tComplexity\n",
    "            totalEfficiency /= SimCount\n",
    "            totalComplexity /= SimCount\n",
    "            \n",
    "            efficiencyDict[methodName] = round((srcEfficiency - totalEfficiency) / srcEfficiency, 3)\n",
    "            complexityDict[methodName] = round((srcComplexity - totalComplexity) / srcComplexity, 3)\n",
    "        \n",
    "        dfEfficiency.loc[idx] = efficiencyDict\n",
    "        dfComplexity.loc[idx] = complexityDict\n",
    "        idx += 1\n",
    "dfEfficiency.to_csv(os.path.join(SISimDir, 'Efficiency.csv'))\n",
    "dfComplexity.to_csv(os.path.join(SISimDir, 'Complexity.csv'))"
   ],
   "metadata": {
    "collapsed": false,
    "ExecuteTime": {
     "end_time": "2024-05-23T11:59:33.730442Z",
     "start_time": "2024-05-23T11:59:31.465522Z"
    }
   },
   "id": "20522e3c32cb469a",
   "execution_count": 4,
   "outputs": []
  },
  {
   "cell_type": "markdown",
   "source": [
    "\n",
    "### Draw the diffusion degree of SI models at different scales"
   ],
   "metadata": {
    "collapsed": false
   },
   "id": "f26592cf8b5c23f6"
  },
  {
   "cell_type": "code",
   "source": [
    "import shutil\n",
    "\n",
    "saveDir = os.path.join(LabSpace, 'graph', 'DRI-SI')\n",
    "if os.path.isdir(saveDir):\n",
    "    shutil.rmtree(saveDir)\n",
    "os.makedirs(saveDir)    "
   ],
   "metadata": {
    "collapsed": false,
    "ExecuteTime": {
     "end_time": "2024-05-23T12:04:56.541545Z",
     "start_time": "2024-05-23T12:04:56.531013Z"
    }
   },
   "id": "33d5a52109bad9a5",
   "execution_count": 4,
   "outputs": []
  },
  {
   "cell_type": "code",
   "source": [
    "from experiment.functions import func_SortDictByValue\n",
    "from experiment.algorithms.propagation_models.sir_epidemic import sir_epidemic\n",
    "import pandas as pd\n",
    "\n",
    "TestMethods_ = ['DRI', 'DC', 'BC', 'GC', 'GGC', '$GC_d$', '$GGC_d$', 'iFit']\n",
    "labs = ['a', 'b', 'c', 'd', 'e', 'f', 'g', 'h', 'i']\n",
    "\n",
    "cols = ['name'] + TestMethods_\n",
    "\n",
    "Steps = 100\n",
    "\n",
    "SimThreshold = 0.05\n",
    "\n",
    "SimCount = 500\n",
    "\n",
    "fig, axs = plt.subplots(3, 3, figsize=(18, 15))\n",
    "plt.subplots_adjust(hspace=0.3, wspace=0.22)\n",
    "idx = 0\n",
    "maxDict = dict()\n",
    "for softwareName, (status, language, src_dir) in SoftwareConfigs1.items():\n",
    "    if status:\n",
    "        G = Graphs[softwareName] \n",
    "        labels = Labels[softwareName]\n",
    "        types = Types[softwareName]\n",
    "        N = G.number_of_nodes()\n",
    "        maxDict[softwareName] = dict()\n",
    "        \n",
    "        if isinstance(SimThreshold, float) and 0 <= SimThreshold <= 1:\n",
    "            seedsCount = int(G.number_of_nodes() * SimThreshold)\n",
    "        elif isinstance(SimThreshold, int) and 0 < SimThreshold < N:\n",
    "            seedsCount = SimThreshold\n",
    "        else:\n",
    "            seedsCount = int(N * 0.15)\n",
    "            \n",
    "        print(f'{softwareName} starts SI simulation, with an initial number of nodes {seedCount}')\n",
    "        \n",
    "        ax = axs[int(idx / 3), idx % 3]\n",
    "        # ax = axs[idx]\n",
    "        allSiSimCounts = dict()\n",
    "        countDf = pd.DataFrame()\n",
    "        \n",
    "        mI = 0\n",
    "        for methodName, methods in TestMethods:\n",
    "            if methodName not in TestMethods_:\n",
    "                continue\n",
    "                \n",
    "            print(f'Simulate method {methodName} {SimCount} times')\n",
    "            method = methods[softwareName]\n",
    "            \n",
    "            SortedMethod = func_SortDictByValue(method)\n",
    "            SortedMethodIds = list(SortedMethod.keys())\n",
    "            seeds = SortedMethodIds[:seedsCount]\n",
    "            \n",
    "            influences = Influences[softwareName]\n",
    "            thresholds = Thresholds[softwareName]\n",
    "            \n",
    "            roundDF = pd.DataFrame(\n",
    "               columns = [f'round {i}' for i in range(SimCount)]\n",
    "            )\n",
    "            \n",
    "            # ks = sum([G.degree(n) for n in G])\n",
    "            # k2s = sum([G.degree(n)**2 for n in G])\n",
    "            \n",
    "            for i in range(SimCount):\n",
    "                simNodes, simRoundCounts, simRoundNodes = sir_epidemic(G, seeds=seeds, step=Steps, beta=0.1, gamma=0.0)\n",
    "                # simNodes, simRoundCounts, simRoundNodes = sir_epidemic(G, seeds=seeds, step=Steps, influence=influences)\n",
    "                siSimCounts = [0]\n",
    "                siSimCounts.extend(simRoundCounts)  \n",
    "                roundDF[f'round {i}'] = siSimCounts\n",
    "                        \n",
    "            resDf = roundDF.T\n",
    "            countDf[methodName] = resDf.mean()\n",
    "            ax.plot(countDf[methodName], label=f'{methodName}={round(max(resDf.mean()), 2)}', color=colors[mI])\n",
    "            maxDict[softwareName][methodName] = max(resDf.mean())\n",
    "            mI += 1\n",
    "        \n",
    "        countDf.to_csv(os.path.join(SISimDir, f'{softwareName}.sim.csv'))\n",
    "        countDf.to_csv(os.path.join(saveDir, f'{softwareName}.csv'))\n",
    "        \n",
    "        ax.set_xlabel('Iterations', fontdict={'size': 12})\n",
    "        ax.set_ylabel('Number of infected nodes', fontdict={'size': 12})\n",
    "        ax.set_title(f'{labs[idx]}) {softwareName}', y=-0.25, fontdict={'family': 'Times New Roman', 'size': 18})\n",
    "        ax.legend(loc='best')\n",
    "        \n",
    "        idx += 1"
   ],
   "metadata": {
    "collapsed": false,
    "ExecuteTime": {
     "end_time": "2024-05-23T14:46:57.907584Z",
     "start_time": "2024-05-23T12:05:16.433309Z"
    }
   },
   "id": "9dfc7c91fb7ece57",
   "execution_count": 6,
   "outputs": []
  },
  {
   "metadata": {
    "ExecuteTime": {
     "end_time": "2024-05-22T09:27:55.266582Z",
     "start_time": "2024-05-22T09:27:55.250915Z"
    }
   },
   "cell_type": "code",
   "source": [],
   "id": "1c10c698dc21003a",
   "execution_count": 6,
   "outputs": []
  }
 ],
 "metadata": {
  "kernelspec": {
   "display_name": "Python 3",
   "language": "python",
   "name": "python3"
  },
  "language_info": {
   "codemirror_mode": {
    "name": "ipython",
    "version": 2
   },
   "file_extension": ".py",
   "mimetype": "text/x-python",
   "name": "python",
   "nbconvert_exporter": "python",
   "pygments_lexer": "ipython2",
   "version": "2.7.6"
  }
 },
 "nbformat": 4,
 "nbformat_minor": 5
}
