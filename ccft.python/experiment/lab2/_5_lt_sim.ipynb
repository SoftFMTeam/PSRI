{
 "cells": [
  {
   "cell_type": "markdown",
   "source": [
    "# Linear threshold LT model"
   ],
   "metadata": {
    "collapsed": false
   },
   "id": "aa087c85f41d0be1"
  },
  {
   "cell_type": "markdown",
   "source": [
    "## Extraction of testing methods"
   ],
   "metadata": {
    "collapsed": false
   },
   "id": "4eac8d552fbc38a"
  },
  {
   "cell_type": "code",
   "source": [
    "from matplotlib import pyplot as plt\n",
    "\n",
    "plt.rcParams['font.sans-serif'] = ['Microsoft YaHei']\n",
    "plt.rcParams['axes.unicode_minus'] = False\n",
    "\n",
    "shapes = ['o', 'v', '^', '<', '>', 's', 'p', '*', 'h', '+']\n",
    "colors = ['red', 'blue', 'green', 'orange', 'purple', 'cyan', 'magenta', 'darkgreen', 'chocolate']"
   ],
   "metadata": {
    "collapsed": false,
    "ExecuteTime": {
     "end_time": "2024-03-31T11:37:02.336440Z",
     "start_time": "2024-03-31T11:37:02.035908Z"
    }
   },
   "id": "e18364e9ff8b44f1",
   "execution_count": 1,
   "outputs": []
  },
  {
   "cell_type": "code",
   "execution_count": 2,
   "id": "initial_id",
   "metadata": {
    "collapsed": true,
    "ExecuteTime": {
     "end_time": "2024-03-31T11:37:09.795104Z",
     "start_time": "2024-03-31T11:37:08.913907Z"
    }
   },
   "source": [
    "RCIs = dict()\n",
    "DCs = dict()\n",
    "BCs = dict()\n",
    "CCs = dict()\n",
    "PGs = dict()\n",
    "ERs = dict()\n",
    "AFOs = dict()\n",
    "AFPs = dict()\n",
    "\n",
    "import os\n",
    "\n",
    "from experiment.functions import func_get_lab_graph\n",
    "from experiment.lab2._config_ import SoftwareConfigs1, LabSpace\n",
    "\n",
    "Graphs = dict()\n",
    "Labels = dict()\n",
    "Types = dict()\n",
    "\n",
    "\n",
    "for softwareName, (status, language, src_dir) in SoftwareConfigs1.items():\n",
    "    if status:\n",
    "        modelDir = os.path.join(LabSpace, softwareName)\n",
    "        labDir = os.path.join(modelDir, '.lab2')\n",
    "\n",
    "        if not os.path.isdir(labDir):\n",
    "            os.makedirs(labDir, exist_ok=True)\n",
    "\n",
    "        G, labelDict, _, typeDict = func_get_lab_graph(modelDir, labDir, softwareName)\n",
    "        Graphs[softwareName] = G\n",
    "        Labels[softwareName] = labelDict\n",
    "        Types[softwareName] = typeDict\n",
    "        \n",
    "        RCIs[softwareName] = dict(G.nodes.data('RCI'))\n",
    "        DCs[softwareName] = dict(G.nodes.data('dc'))\n",
    "        BCs[softwareName] = dict(G.nodes.data('bc'))\n",
    "        CCs[softwareName] = dict(G.nodes.data('cc'))\n",
    "        PGs[softwareName] = dict(G.nodes.data('pg'))\n",
    "        ERs[softwareName] = dict(G.nodes.data('er'))\n",
    "        AFOs[softwareName] = dict(G.nodes.data('AFO'))\n",
    "        AFPs[softwareName] = dict(G.nodes.data('AFP'))\n",
    "\n",
    "print('Extract data for risk diffusion experiments')"
   ],
   "outputs": []
  },
  {
   "cell_type": "markdown",
   "source": [
    "## LT Linear Threshold Model"
   ],
   "metadata": {
    "collapsed": false
   },
   "id": "ee9534023ca5721f"
  },
  {
   "cell_type": "markdown",
   "source": [
    "### model parameter"
   ],
   "metadata": {
    "collapsed": false
   },
   "id": "f4d9922689367840"
  },
  {
   "cell_type": "code",
   "source": [
    "from experiment.functions import func_get_edge_influence\n",
    "\n",
    "Steps = 100\n",
    "\n",
    "SimThreshold = 30\n",
    "\n",
    "SimCount = 10\n",
    "\n",
    "TestMethods = [\n",
    "    ('DRI', RCIs),\n",
    "    ('DC', DCs),\n",
    "    ('BC', BCs),\n",
    "    ('CC', CCs),\n",
    "    ('PageRank', PGs),\n",
    "    ('ElementRank', ERs),\n",
    "]\n",
    "\n",
    "Thresholds = dict()\n",
    "Influences = dict()\n",
    "\n",
    "for softwareName, (status, language, src_dir) in SoftwareConfigs1.items():\n",
    "    if status:\n",
    "        G = Graphs[softwareName] \n",
    "        Influences[softwareName] = func_get_edge_influence(G, 'w-in-degree')\n",
    "        Thresholds[softwareName] = {node: 0.5 for node in G.nodes}\n",
    "        pass\n",
    "\n",
    "LTSimDir = os.path.join(LabSpace, '.sim.LT')\n",
    "if not os.path.isdir(LTSimDir):\n",
    "    os.mkdir(LTSimDir)"
   ],
   "metadata": {
    "collapsed": false,
    "ExecuteTime": {
     "end_time": "2024-03-31T11:37:21.006819Z",
     "start_time": "2024-03-31T11:37:20.953326Z"
    }
   },
   "id": "15111bc5983b446e",
   "execution_count": 4,
   "outputs": []
  },
  {
   "cell_type": "markdown",
   "source": [
    "## Linear threshold LT model simulation"
   ],
   "metadata": {
    "collapsed": false
   },
   "id": "6e1f341db7558299"
  },
  {
   "cell_type": "markdown",
   "source": [
    "### LT model parameter settings"
   ],
   "metadata": {
    "collapsed": false
   },
   "id": "3239630ecd672654"
  },
  {
   "cell_type": "code",
   "source": [
    "Thresholds = dict()\n",
    "Influences = dict()\n",
    "\n",
    "for softwareName, (status, language, src_dir) in SoftwareConfigs1.items():\n",
    "    if status:\n",
    "        G = Graphs[softwareName] \n",
    "        Influences[softwareName] = None\n",
    "        Thresholds[softwareName] = {node: 0.5 for node in G.nodes}\n",
    "        pass\n",
    "    \n",
    "SimDir = os.path.join(LabSpace, '.sim.LT')\n",
    "if not os.path.isdir(SimDir):\n",
    "    os.mkdir(SimDir)"
   ],
   "metadata": {
    "collapsed": false,
    "ExecuteTime": {
     "end_time": "2024-03-31T11:37:26.314037Z",
     "start_time": "2024-03-31T11:37:26.305315Z"
    }
   },
   "id": "eceaaafe3b9e85c",
   "execution_count": 5,
   "outputs": []
  },
  {
   "cell_type": "markdown",
   "source": [
    "### Perform simulation"
   ],
   "metadata": {
    "collapsed": false
   },
   "id": "291950a87da861f"
  },
  {
   "cell_type": "code",
   "source": [
    "import pandas as pd\n",
    "import copy\n",
    "from pandas import DataFrame\n",
    "from experiment.algorithms.propagation_models.linear_threshold import linear_threshold\n",
    "from experiment.functions import func_SortDictByValue\n",
    "\n",
    "simResults = dict()\n",
    "for softwareName, (status, language, src_dir) in SoftwareConfigs1.items():\n",
    "    if status:\n",
    "        G = Graphs[softwareName] \n",
    "        labels = Labels[softwareName]\n",
    "        types = Types[softwareName]\n",
    "        N = G.number_of_nodes()\n",
    "        \n",
    "        if isinstance(SimThreshold, float) and 0 <= SimThreshold <= 1:\n",
    "            seedsCount = int(G.number_of_nodes() * SimThreshold)\n",
    "        elif isinstance(SimThreshold, int) and 0 < SimThreshold < N:\n",
    "            seedsCount = SimThreshold\n",
    "        else:\n",
    "            seedsCount = int(N * 0.15)\n",
    "        \n",
    "        print(f'{softwareName} starts simulating...')\n",
    "        \n",
    "        methodColumns = [methodName for methodName, _ in TestMethods]\n",
    "        itemColumns = ['key', 'val', 'label', 'type']\n",
    "        finalDf = DataFrame(\n",
    "           columns = pd.MultiIndex.from_product(\n",
    "               [methodColumns, itemColumns]\n",
    "           )\n",
    "        )\n",
    "        \n",
    "        seeds = set()\n",
    "        MethodSeeds = dict()\n",
    "        for methodName, methods in TestMethods:\n",
    "            method = methods[softwareName]\n",
    "            SortedMethod = func_SortDictByValue(method)\n",
    "            SortedMethodIds = list(SortedMethod.keys())\n",
    "            methodSeeds = SortedMethodIds[:seedsCount]\n",
    "            MethodSeeds[methodName] = methodSeeds\n",
    "            seeds.update(methodSeeds)\n",
    "        \n",
    "        print(f'\\tStart simulating {len (seeds)} nodes')\n",
    "        influences = Influences[softwareName]\n",
    "        thresholds = Thresholds[softwareName]\n",
    "        simVals = dict()\n",
    "        for seed in seeds:\n",
    "            acNodes, acNodesCounts, newAcNodes = linear_threshold(G, seeds=[seed], influences=influences, thresholds=thresholds)\n",
    "            simVals[seed] = acNodesCounts[-1]\n",
    "            pass\n",
    "        \n",
    "        simResults[softwareName] = dict()\n",
    "        for methodName, methodSeeds in MethodSeeds.items():\n",
    "            seedLabs = [labels[n] for n in methodSeeds]\n",
    "            seedTypes = [types[n] for n in methodSeeds]\n",
    "            seedVals = [simVals[n] for n in methodSeeds]\n",
    "            \n",
    "            totalVal = sum(seedVals)\n",
    "            simResults[softwareName][methodName] = totalVal\n",
    "            tSeeds = copy.deepcopy(methodSeeds)\n",
    "            tSeeds.append(-1)\n",
    "            seedVals.append(totalVal)\n",
    "            seedLabs.append('total')\n",
    "            seedTypes.append(methodName)\n",
    "            \n",
    "            finalDf[methodName, 'key'] = tSeeds\n",
    "            finalDf[methodName, 'val'] = seedVals\n",
    "            finalDf[methodName, 'label'] = seedLabs\n",
    "            finalDf[methodName, 'type'] = seedTypes\n",
    "        \n",
    "        finalDf.to_csv(os.path.join(SimDir, f'{softwareName}.csv'))"
   ],
   "metadata": {
    "collapsed": false,
    "ExecuteTime": {
     "end_time": "2024-03-31T11:38:49.981998Z",
     "start_time": "2024-03-31T11:37:31.483815Z"
    }
   },
   "id": "d3fbccd5ffe57e31",
   "execution_count": 6,
   "outputs": []
  },
  {
   "cell_type": "code",
   "source": [],
   "metadata": {
    "collapsed": false,
    "ExecuteTime": {
     "end_time": "2024-03-29T10:46:38.211322Z",
     "start_time": "2024-03-29T10:46:38.196816Z"
    }
   },
   "id": "9ad86f8e51459b31",
   "execution_count": 7,
   "outputs": []
  }
 ],
 "metadata": {
  "kernelspec": {
   "display_name": "Python 3",
   "language": "python",
   "name": "python3"
  },
  "language_info": {
   "codemirror_mode": {
    "name": "ipython",
    "version": 2
   },
   "file_extension": ".py",
   "mimetype": "text/x-python",
   "name": "python",
   "nbconvert_exporter": "python",
   "pygments_lexer": "ipython2",
   "version": "2.7.6"
  }
 },
 "nbformat": 4,
 "nbformat_minor": 5
}
