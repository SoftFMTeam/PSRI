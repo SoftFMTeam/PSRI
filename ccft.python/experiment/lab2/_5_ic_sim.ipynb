{
 "cells": [
  {
   "cell_type": "markdown",
   "source": [
    "# Simulation of Network Communication Dynamics Model"
   ],
   "metadata": {
    "collapsed": false
   },
   "id": "e811703644f9483e"
  },
  {
   "cell_type": "markdown",
   "source": [
    "## Extraction of testing methods"
   ],
   "metadata": {
    "collapsed": false
   },
   "id": "5005b6c30c95b378"
  },
  {
   "cell_type": "code",
   "source": [
    "from matplotlib import pyplot as plt\n",
    "\n",
    "plt.rcParams['font.sans-serif'] = ['Microsoft YaHei']\n",
    "plt.rcParams['axes.unicode_minus'] = False\n",
    "\n",
    "shapes = ['o', 'v', '^', '<', '>', 's', 'p', '*', 'h', '+']\n",
    "colors = ['red', 'blue', 'green', 'orange', 'purple', 'cyan', 'magenta', 'darkgreen', 'chocolate']"
   ],
   "metadata": {
    "collapsed": false,
    "ExecuteTime": {
     "end_time": "2024-03-29T15:54:55.571584Z",
     "start_time": "2024-03-29T15:54:55.560581Z"
    }
   },
   "id": "b738664e26c06b11",
   "execution_count": 10,
   "outputs": []
  },
  {
   "cell_type": "code",
   "execution_count": 11,
   "id": "initial_id",
   "metadata": {
    "collapsed": true,
    "ExecuteTime": {
     "end_time": "2024-03-29T15:54:56.311751Z",
     "start_time": "2024-03-29T15:54:56.073866Z"
    }
   },
   "source": [
    "RCIs = dict()\n",
    "DCs = dict()\n",
    "BCs = dict()\n",
    "CCs = dict()\n",
    "PGs = dict()\n",
    "ERs = dict()\n",
    "AFOs = dict()\n",
    "AFPs = dict()\n",
    "\n",
    "import os\n",
    "\n",
    "from experiment.functions import func_get_lab_graph\n",
    "from experiment.lab2._config_ import SoftwareConfit, LabSpace\n",
    "\n",
    "Graphs = dict()\n",
    "Labels = dict()\n",
    "Types = dict()\n",
    "\n",
    "\n",
    "for softwareName, (status, language, src_dir) in SoftwareConfit.items():\n",
    "    if status:\n",
    "        modelDir = os.path.join(LabSpace, softwareName)\n",
    "        labDir = os.path.join(modelDir, '.lab2')\n",
    "\n",
    "        if not os.path.isdir(labDir):\n",
    "            os.makedirs(labDir, exist_ok=True)\n",
    "\n",
    "        G, labelDict, _, typeDict = func_get_lab_graph(modelDir, labDir, softwareName)\n",
    "        Graphs[softwareName] = G\n",
    "        Labels[softwareName] = labelDict\n",
    "        Types[softwareName] = typeDict\n",
    "        \n",
    "        RCIs[softwareName] = dict(G.nodes.data('RCI'))\n",
    "        DCs[softwareName] = dict(G.nodes.data('dc'))\n",
    "        BCs[softwareName] = dict(G.nodes.data('bc'))\n",
    "        CCs[softwareName] = dict(G.nodes.data('cc'))\n",
    "        PGs[softwareName] = dict(G.nodes.data('pg'))\n",
    "        ERs[softwareName] = dict(G.nodes.data('er'))\n",
    "        AFOs[softwareName] = dict(G.nodes.data('AFO'))\n",
    "        AFPs[softwareName] = dict(G.nodes.data('AFP'))\n",
    "\n",
    "print('Extract data for risk diffusion experiments')"
   ],
   "outputs": []
  },
  {
   "cell_type": "markdown",
   "source": [
    "# Diffusion range experiment"
   ],
   "metadata": {
    "collapsed": false
   },
   "id": "c512349d28948233"
  },
  {
   "cell_type": "markdown",
   "source": [
    "## Set the method to be tested and the threshold for testing nodes"
   ],
   "metadata": {
    "collapsed": false
   },
   "id": "cfaee3d2968f29f3"
  },
  {
   "cell_type": "code",
   "source": [
    "# Threshold for IC model testing nodes\n",
    "ICSimThreshold = 0.05\n",
    "\n",
    "# The rounds of IC model simulation\n",
    "ICSimCount = 10\n",
    "\n",
    "ICThresholds = dict()\n",
    "ICInfluences = dict()\n",
    "\n",
    "# Set the excitation threshold and influence for each node\n",
    "for softwareName, (status, language, src_dir) in SoftwareConfit.items():\n",
    "    if status:\n",
    "        G = Graphs[softwareName] \n",
    "        ICInfluences[softwareName] = None\n",
    "        ICThresholds[softwareName] = {node: 0.5 for node in G.nodes}\n",
    "        pass\n",
    "\n",
    "# Test method to be tested\n",
    "TestMethods = [\n",
    "    ('DRI', RCIs),\n",
    "    ('DC', DCs),\n",
    "    ('BC', BCs),\n",
    "    ('CC', CCs),\n",
    "    ('PageRank', PGs),\n",
    "    ('ElementRank', ERs),\n",
    "]\n",
    "\n",
    "ICSimDir = os.path.join(LabSpace, '.sim.IC')\n",
    "if not os.path.isdir(ICSimDir):\n",
    "    os.mkdir(ICSimDir)\n",
    "    \n",
    "  "
   ],
   "metadata": {
    "collapsed": false,
    "ExecuteTime": {
     "end_time": "2024-03-29T16:31:33.981597Z",
     "start_time": "2024-03-29T16:31:33.975597Z"
    }
   },
   "id": "c9ec6de510435b55",
   "execution_count": 25,
   "outputs": []
  },
  {
   "cell_type": "markdown",
   "source": [
    "### Perform simulation"
   ],
   "metadata": {
    "collapsed": false
   },
   "id": "bd0667ac1ce4cdf4"
  },
  {
   "cell_type": "code",
   "source": [
    "from experiment.algorithms.propagation_models.independent_cascade import independent_cascade\n",
    "import pandas as pd\n",
    "import copy\n",
    "from pandas import DataFrame\n",
    "from experiment.functions import func_SortDictByValue\n",
    "\n",
    "\n",
    "df = pd.DataFrame(\n",
    "    columns=pd.MultiIndex.from_product(\n",
    "               [[methodName for methodName, methods in TestMethods], ['max', 'min', 'mean', 'sum']]\n",
    "           )\n",
    ")\n",
    "\n",
    "simResults = dict()\n",
    "loc =0\n",
    "for softwareName, (status, language, src_dir) in SoftwareConfit.items():\n",
    "    if status:\n",
    "        G = Graphs[softwareName] \n",
    "        labels = Labels[softwareName]\n",
    "        types = Types[softwareName]\n",
    "        N = G.number_of_nodes()\n",
    "        \n",
    "        if isinstance(ICSimThreshold, float) and 0 <= ICSimThreshold <= 1:\n",
    "            seedsCount = int(G.number_of_nodes() * ICSimThreshold)\n",
    "        elif isinstance(ICSimThreshold, int) and 0 < ICSimThreshold < N:\n",
    "            seedsCount = ICSimThreshold\n",
    "        else:\n",
    "            seedsCount = int(N * 0.15)\n",
    "        \n",
    "        print(f'{softwareName} starts simulating')\n",
    "        simResults[softwareName] = dict()\n",
    "        \n",
    "        for methodName, methods in TestMethods:\n",
    "            print(f'Simulate method {methodName}')\n",
    "            method = methods[softwareName]\n",
    "            SortedMethod = func_SortDictByValue(method)\n",
    "            SortedMethodIds = list(SortedMethod.keys())\n",
    "            seeds = SortedMethodIds[:seedsCount]\n",
    "            seedLabs = [labels[n] for n in seeds]\n",
    "            seedTypes = [types[n] for n in seeds]\n",
    "            print(f'\\tStart simulating the first {seedsCount} nodes of {methodName}')\n",
    "            \n",
    "            simColumns = [f'round {idx}' for idx in range(ICSimCount)]\n",
    "            itemColumns = ['key', 'val', 'label', 'type']\n",
    "        \n",
    "            roundDF = DataFrame(\n",
    "               columns = pd.MultiIndex.from_product(\n",
    "                   [simColumns, itemColumns]\n",
    "               )\n",
    "            )\n",
    "            \n",
    "            sumVal = 0\n",
    "            maxVal = 0\n",
    "            minVal = 999999\n",
    "            meanVal = 0\n",
    "            \n",
    "            for idx in range(ICSimCount):\n",
    "                influences = Influences[softwareName]\n",
    "                maxItem = 0\n",
    "            \n",
    "                simVals = []\n",
    "                \n",
    "                for seed in seeds:\n",
    "                    acNodes, acNodesCounts, newAcNodes = independent_cascade(G, seeds=[seed], influences=influences)\n",
    "                    simVals.append(acNodesCounts[-1])\n",
    "                    pass\n",
    "                \n",
    "                tSeeds = copy.deepcopy(seeds)\n",
    "                tSeedLabs = copy.deepcopy(seedLabs)\n",
    "                tSeedTypes = copy.deepcopy(seedTypes)\n",
    "                tSeeds.append(-1)\n",
    "                tSeedLabs.append('total')\n",
    "                tSeedTypes.append('-')\n",
    "                simCount = sum(simVals)\n",
    "                simVals.append(simCount)\n",
    "                roundDF[f'round {idx}', 'key'] = tSeeds\n",
    "                roundDF[f'round {idx}', 'val'] = simVals\n",
    "                roundDF[f'round {idx}', 'label'] = tSeedLabs\n",
    "                roundDF[f'round {idx}', 'type'] = tSeedTypes\n",
    "                \n",
    "                sumVal += simCount\n",
    "                maxVal = max(simCount, maxVal)\n",
    "                minVal = min(simCount, minVal)\n",
    "        \n",
    "            roundDF.to_csv(os.path.join(ICSimDir, f'{softwareName}.{methodName}.sim.csv'))\n",
    "            meanVal = sumVal / ICSimCount\n",
    "            df.loc[methodName, 'max'] = maxVal\n",
    "            df.loc[methodName, 'min'] = minVal\n",
    "            df.loc[methodName, 'mean'] = meanVal\n",
    "            df.loc[methodName, 'sum'] = sumVal\n",
    "        loc += 1\n",
    "        \n",
    "df"
   ],
   "metadata": {
    "collapsed": false,
    "is_executing": true,
    "ExecuteTime": {
     "start_time": "2024-03-29T16:34:39.417201Z"
    }
   },
   "id": "919a244f167bbe81",
   "execution_count": null,
   "outputs": []
  },
  {
   "cell_type": "code",
   "source": [],
   "metadata": {
    "collapsed": false,
    "ExecuteTime": {
     "end_time": "2024-03-29T11:08:47.060542Z",
     "start_time": "2024-03-29T11:08:47.054542Z"
    }
   },
   "id": "2a38b75770d9b406",
   "execution_count": null,
   "outputs": []
  }
 ],
 "metadata": {
  "kernelspec": {
   "display_name": "Python 3",
   "language": "python",
   "name": "python3"
  },
  "language_info": {
   "codemirror_mode": {
    "name": "ipython",
    "version": 2
   },
   "file_extension": ".py",
   "mimetype": "text/x-python",
   "name": "python",
   "nbconvert_exporter": "python",
   "pygments_lexer": "ipython2",
   "version": "2.7.6"
  }
 },
 "nbformat": 4,
 "nbformat_minor": 5
}
