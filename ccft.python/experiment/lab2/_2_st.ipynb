{
 "cells": [
  {
   "cell_type": "markdown",
   "id": "580beb197737721f",
   "metadata": {
    "collapsed": false
   },
   "source": [
    "# 5.2 Experimental results and analysis of software heterogeneous coupling network model construction"
   ]
  },
  {
   "cell_type": "code",
   "outputs": [],
   "source": [],
   "metadata": {
    "collapsed": false
   },
   "id": "419961d77686ecea"
  },
  {
   "cell_type": "code",
   "id": "3b5ea5c04c2d842d",
   "metadata": {
    "collapsed": false,
    "ExecuteTime": {
     "end_time": "2024-05-16T12:07:03.933335Z",
     "start_time": "2024-05-16T12:07:03.653302Z"
    }
   },
   "source": [
    "import shutil\n",
    "\n",
    "from matplotlib import pyplot as plt\n",
    "\n",
    "plt.rcParams['font.sans-serif'] = ['Microsoft YaHei']\n",
    "plt.rcParams['axes.unicode_minus'] = False\n",
    "\n",
    "shapes = ['o', 'v', '^', '<', '>', 's', 'p', '*', 'h', '+']\n",
    "colors = ['red', 'blue', 'green', 'orange', 'purple', 'cyan', 'magenta', 'darkgreen', 'chocolate']"
   ],
   "execution_count": 1,
   "outputs": []
  },
  {
   "cell_type": "markdown",
   "source": [
    "## Read network data"
   ],
   "metadata": {
    "collapsed": false
   },
   "id": "ff5f4e46b1c49473"
  },
  {
   "cell_type": "code",
   "source": [
    "from experiment.functions import func_get_lab_graph\n",
    "from experiment.lab2._0_config_ import LabSpace, SoftwareConfigs1\n",
    "import os\n",
    "\n",
    "Graphs = dict()\n",
    "Labels = dict()\n",
    "Types = dict()\n",
    "\n",
    "for softwareName, (status, language, src_dir) in SoftwareConfigs1.items():\n",
    "    if status:\n",
    "        modelDir = os.path.join(LabSpace, softwareName)\n",
    "        labDir = os.path.join(modelDir, '.lab2')\n",
    "        \n",
    "        G, labelDict, _, typeDict = func_get_lab_graph(modelDir, labDir, softwareName)\n",
    "        Graphs[softwareName] = G\n",
    "        Labels[softwareName] = labelDict\n",
    "        Types[softwareName] = typeDict\n",
    "        print(f'{softwareName} reading completed ')"
   ],
   "metadata": {
    "collapsed": false,
    "ExecuteTime": {
     "end_time": "2024-05-16T12:07:06.106491Z",
     "start_time": "2024-05-16T12:07:05.213811Z"
    }
   },
   "id": "da171f3dbe6a5f3e",
   "execution_count": 2,
   "outputs": []
  },
  {
   "cell_type": "markdown",
   "id": "8d11f89a510692b1",
   "metadata": {
    "collapsed": false
   },
   "source": [
    "## 5.2.1 Network structure characteristics"
   ]
  },
  {
   "cell_type": "code",
   "id": "ea01474d80455124",
   "metadata": {
    "collapsed": false,
    "ExecuteTime": {
     "end_time": "2024-05-16T12:07:48.101815Z",
     "start_time": "2024-05-16T12:07:47.422100Z"
    }
   },
   "source": [
    "import pandas as pd\n",
    "import networkx as nx\n",
    "import os\n",
    "\n",
    "from ccft.util.utils import serialize\n",
    "from experiment.lab2._0_config_ import SoftwareConfigs1, LabSpace\n",
    "\n",
    "\n",
    "InfoDir = os.path.join(LabSpace, '.st')\n",
    "if not os.path.isdir(InfoDir):\n",
    "    os.makedirs(InfoDir, exist_ok=True)\n",
    "\n",
    "graphInfos = pd.DataFrame(columns=['name', 'N', 'E', 'E/N', 'k', 'd', 'L', 'C', 'mC', 'uC'])\n",
    "\n",
    "loc = 0\n",
    "for softwareName, (status, language, src_dir) in SoftwareConfigs1.items():\n",
    "    if status:\n",
    "        modelDir = os.path.join(LabSpace, softwareName)\n",
    "        labDir = os.path.join(modelDir, '.lab2')\n",
    "\n",
    "        G = Graphs[softwareName] \n",
    "        labelDict = Labels[softwareName] \n",
    "        typeDict =  Types[softwareName] \n",
    "        print(f'{softwareName} 读取完成 ')\n",
    "        \n",
    "        unDirectedGraph = nx.to_undirected(G)\n",
    "        \n",
    "        N = G.number_of_nodes()\n",
    "        E = G.number_of_edges()\n",
    "        degrees = dict(G.degree()).values()\n",
    "        k = sum(degrees) / N if N > 0 else 0\n",
    "        \n",
    "        d = 0\n",
    "        L = 0\n",
    "        mC = 0\n",
    "        for component in nx.connected_components(unDirectedGraph):\n",
    "            # subgraph = unDirectedGraph.subgraph(component)\n",
    "            # d = max(d, nx.diameter(subgraph))\n",
    "            # L += (nx.average_shortest_path_length(subgraph) * subgraph.number_of_nodes())\n",
    "            # mC = max(mC, nx.average_clustering(subgraph))\n",
    "            pass\n",
    "            \n",
    "        L = round(L / G.number_of_nodes(), 2)\n",
    "        C = round(nx.average_clustering(G), 4)\n",
    "        uC = round(nx.average_clustering(unDirectedGraph), 4)\n",
    "        mC = round(mC, 4)\n",
    "        EtN = round(E/N, 2)\n",
    "    \n",
    "        graphInfo = {\n",
    "            'name': softwareName,\n",
    "            'N': N,\n",
    "            'E': E,\n",
    "            'E/N': EtN,\n",
    "            'k': k,\n",
    "            'd': d,\n",
    "            'L': L,\n",
    "            'C': C,\n",
    "            'mC': mC,\n",
    "            'uC': uC\n",
    "        }\n",
    "        \n",
    "        print(graphInfo)\n",
    "        graphInfos.loc[loc] = graphInfo\n",
    "        loc += 1\n",
    "    \n",
    "binPath = os.path.join(InfoDir, 'infos.bin')\n",
    "csvPath = os.path.join(InfoDir, 'infos.csv')\n",
    "serialize(binPath, graphInfos)\n",
    "graphInfos.to_csv(csvPath, index=False)\n",
    "print(f'Network information is stored in {binPath}, and structural information is stored in {csvPath}')\n"
   ],
   "execution_count": 3,
   "outputs": []
  },
  {
   "cell_type": "code",
   "source": [
    "graphInfos"
   ],
   "metadata": {
    "collapsed": false,
    "ExecuteTime": {
     "end_time": "2024-05-16T12:07:50.277189Z",
     "start_time": "2024-05-16T12:07:50.263989Z"
    }
   },
   "id": "5e726820873dfe45",
   "execution_count": 4,
   "outputs": []
  },
  {
   "cell_type": "markdown",
   "id": "e7ddf2cb747da829",
   "metadata": {
    "collapsed": false
   },
   "source": [
    "## 5.2.2 Scale free characteristic analysis"
   ]
  },
  {
   "cell_type": "markdown",
   "id": "49c5ff764204304c",
   "metadata": {
    "collapsed": false
   },
   "source": [
    "### Network degree analysis"
   ]
  },
  {
   "cell_type": "markdown",
   "id": "cc1e8103f0ca18c7",
   "metadata": {
    "collapsed": false
   },
   "source": [
    "#### Read Degree Information"
   ]
  },
  {
   "cell_type": "code",
   "id": "a96b67c0f76a076f",
   "metadata": {
    "collapsed": false,
    "ExecuteTime": {
     "end_time": "2024-05-16T12:07:53.345449Z",
     "start_time": "2024-05-16T12:07:53.300977Z"
    }
   },
   "source": [
    "import pandas as pd\n",
    "import numpy as np\n",
    "\n",
    "Degrees = dict()\n",
    "df = pd.DataFrame(columns=['name', 'ave', 'max', 'min'])\n",
    "idx = 0\n",
    "for softwareName, (status, language, src_dir) in SoftwareConfigs1.items():\n",
    "    if status:\n",
    "        G = Graphs[softwareName]\n",
    "        labels = Labels[softwareName]\n",
    "        types = Types[softwareName]\n",
    "        \n",
    "        degrees = dict(G.degree())\n",
    "        outDegreeVals = np.asarray(list(degrees.values()))\n",
    "        degreeIds = np.asarray(list(degrees.keys()))\n",
    "        degreeLabs = np.asarray([labels[i] for i in degreeIds])\n",
    "        degreeTypes = np.asarray([types[i] for i in degreeIds])\n",
    "        Degrees[softwareName] = (outDegreeVals, degreeIds, degreeLabs, degreeTypes)\n",
    "        \n",
    "        df.loc[idx] = [softwareName, round(outDegreeVals.sum() / outDegreeVals.size, 2), outDegreeVals.max(), outDegreeVals.min()]\n",
    "        idx +=1\n",
    "        \n",
    "degreeDf = df.T\n",
    "\n",
    "csvPath = os.path.join(InfoDir, 'degree-info.csv')\n",
    "degreeDf.to_csv(csvPath)\n",
    "print(f'The degree information is saved in {csvPath}')\n"
   ],
   "execution_count": 5,
   "outputs": []
  },
  {
   "cell_type": "code",
   "source": [
    "degreeDf"
   ],
   "metadata": {
    "collapsed": false,
    "ExecuteTime": {
     "end_time": "2024-05-16T12:07:55.043156Z",
     "start_time": "2024-05-16T12:07:55.029136Z"
    }
   },
   "id": "d3a1215bb4be7505",
   "execution_count": 6,
   "outputs": []
  },
  {
   "cell_type": "markdown",
   "id": "d1300445dab4b3ff",
   "metadata": {
    "collapsed": false
   },
   "source": [
    "#### Fitting results of power-law distribution"
   ]
  },
  {
   "cell_type": "code",
   "id": "576e93e74eeb52b6",
   "metadata": {
    "collapsed": false,
    "ExecuteTime": {
     "end_time": "2024-05-16T12:07:56.743314Z",
     "start_time": "2024-05-16T12:07:56.698295Z"
    }
   },
   "source": [
    "import powerlaw\n",
    "\n",
    "df = pd.DataFrame(columns=['name', 'alpha', 'k-min', 'D', 'sigma'])\n",
    "idx = 0\n",
    "for softwareName, (status, language, src_dir) in SoftwareConfigs1.items():\n",
    "    if status:\n",
    "        outDegreeVals = Degrees[softwareName][0]\n",
    "        fit = powerlaw.Fit(outDegreeVals, discrete=True)\n",
    "        df.loc[idx] = [softwareName, round(fit.alpha, 2), int(fit.xmin), round(fit.D, 3), round(fit.sigma, 3)]\n",
    "        idx += 1\n",
    "        \n",
    "powerlawDf = df.T\n",
    "\n",
    "csvPath = os.path.join(InfoDir, 'powerlaw.csv')\n",
    "powerlawDf.to_csv(csvPath)\n",
    "print(f'Power law fitting information is saved in {csvPath}')\n"
   ],
   "execution_count": 7,
   "outputs": []
  },
  {
   "cell_type": "code",
   "source": [
    "powerlawDf\n"
   ],
   "metadata": {
    "collapsed": false,
    "ExecuteTime": {
     "end_time": "2024-05-16T12:07:57.690434Z",
     "start_time": "2024-05-16T12:07:57.678259Z"
    }
   },
   "id": "e1b27e74de5144be",
   "execution_count": 8,
   "outputs": []
  },
  {
   "cell_type": "markdown",
   "id": "1ac3c1a1959b20b8",
   "metadata": {
    "collapsed": false
   },
   "source": [
    "#### Scatter plot of degree distribution"
   ]
  },
  {
   "cell_type": "code",
   "id": "27f4c8f778d48df3",
   "metadata": {
    "collapsed": false,
    "ExecuteTime": {
     "end_time": "2024-05-16T12:07:59.892205Z",
     "start_time": "2024-05-16T12:07:59.423735Z"
    }
   },
   "source": [
    "from experiment.lab2.lab2_func import get_pdf\n",
    "\n",
    "plt.figure(figsize=(8, 6))\n",
    "\n",
    "idx = 0\n",
    "for softwareName, (status, language, src_dir) in SoftwareConfigs1.items():\n",
    "    if status:\n",
    "        outDegreeVals = Degrees[softwareName][0]\n",
    "        k, Pk = get_pdf(outDegreeVals)\n",
    "        plt.scatter(k, Pk, label=softwareName, marker=shapes[idx], color=colors[idx])\n",
    "        idx += 1\n",
    "        \n",
    "plt.xlabel(\"$k$\")\n",
    "plt.ylabel(\"$P(k)$\")\n",
    "plt.xscale('log')\n",
    "plt.yscale('log')\n",
    "plt.legend()\n",
    "plt.show()"
   ],
   "execution_count": 9,
   "outputs": []
  },
  {
   "cell_type": "markdown",
   "id": "1bb404b931e9551f",
   "metadata": {
    "collapsed": false
   },
   "source": [
    "### Analysis of in degree and out degree of nodes"
   ]
  },
  {
   "cell_type": "markdown",
   "id": "25ba1eca616de54d",
   "metadata": {
    "collapsed": false
   },
   "source": [
    "#### Extraction of in degree and out degree"
   ]
  },
  {
   "cell_type": "code",
   "id": "72486247-a491-4461-9f42-c454fb27f845",
   "metadata": {
    "ExecuteTime": {
     "end_time": "2024-05-16T12:08:08.088907Z",
     "start_time": "2024-05-16T12:08:08.028631Z"
    }
   },
   "source": [
    "import pandas as pd\n",
    "import numpy as np\n",
    "\n",
    "InDegrees = dict()\n",
    "OutDegrees = dict()\n",
    "\n",
    "df = pd.DataFrame(columns=['name', 'k-in ave', 'k-in max', 'k-out ave', 'k-out max'])\n",
    "idx = 0\n",
    "for softwareName, (status, language, src_dir) in SoftwareConfigs1.items():\n",
    "    if status:\n",
    "        G = Graphs[softwareName]\n",
    "        labels = Labels[softwareName]\n",
    "        types = Types[softwareName]\n",
    "        \n",
    "        inDegrees = dict(G.in_degree())\n",
    "        inDegreeVals = np.asarray(list(inDegrees.values()))\n",
    "        inDegreeIds = np.asarray(list(inDegrees.keys()))\n",
    "        inDegreeLabs = np.asarray([labels[i] for i in inDegreeIds])\n",
    "        inDegreeTypes = np.asarray([types[i] for i in inDegreeIds])\n",
    "        InDegrees[softwareName] = (inDegreeVals, inDegreeIds, inDegreeLabs, inDegreeTypes)\n",
    "        \n",
    "        outDegrees = dict(G.out_degree())\n",
    "        outDegreeVals = np.asarray(list(outDegrees.values()))\n",
    "        outDegreeIds = np.asarray(list(outDegrees.keys()))\n",
    "        outDegreeLabs = np.asarray([labels[i] for i in outDegreeIds])\n",
    "        outDegreeTypes = np.asarray([types[i] for i in outDegreeIds])\n",
    "        OutDegrees[softwareName] = (outDegreeVals, outDegreeIds, outDegreeLabs, outDegreeTypes)\n",
    "        \n",
    "        df.loc[idx] = [softwareName, round(inDegreeVals.sum() / inDegreeVals.size, 2), inDegreeVals.max(), \n",
    "                       round(outDegreeVals.sum() / outDegreeVals.size, 2), outDegreeVals.max()]\n",
    "        idx +=1\n"
   ],
   "execution_count": 10,
   "outputs": []
  },
  {
   "cell_type": "code",
   "source": [
    "df.T\n"
   ],
   "metadata": {
    "collapsed": false,
    "ExecuteTime": {
     "end_time": "2024-05-16T12:08:09.839579Z",
     "start_time": "2024-05-16T12:08:09.831701Z"
    }
   },
   "id": "5aad52d56501f7bd",
   "execution_count": 11,
   "outputs": []
  },
  {
   "cell_type": "markdown",
   "id": "48ddce43034b5860",
   "metadata": {
    "collapsed": false
   },
   "source": [
    "#### Fitting results of in degree power-law distribution"
   ]
  },
  {
   "cell_type": "code",
   "id": "e0794cf5d2bc9b4",
   "metadata": {
    "collapsed": false,
    "ExecuteTime": {
     "end_time": "2024-05-16T12:08:11.456950Z",
     "start_time": "2024-05-16T12:08:11.398421Z"
    }
   },
   "source": [
    "df = pd.DataFrame(columns=['name', 'alpha in', 'alpha out', 'k-min in', 'k-min out', 'D in', 'D out', 'sigma in', 'sigma out'])\n",
    "idx = 0\n",
    "for softwareName, (status, language, src_dir) in SoftwareConfigs1.items():\n",
    "    if status:\n",
    "        inDegreeVals = InDegrees[softwareName][0]\n",
    "        inFit = powerlaw.Fit(inDegreeVals + 1, discrete=True)\n",
    "        outDegreeVals = OutDegrees[softwareName][0]\n",
    "        outFit = powerlaw.Fit(outDegreeVals + 1, discrete=True)\n",
    "        \n",
    "        df.loc[idx] = [\n",
    "            softwareName, \n",
    "            round(inFit.alpha, 3), round(outFit.alpha, 3), int(inFit.xmin), int(outFit.xmin), \n",
    "            round(inFit.D, 3), round(outFit.D, 3), round(inFit.sigma, 3), round(outFit.sigma, 3)\n",
    "        ]\n",
    "        idx += 1\n",
    "df.T"
   ],
   "execution_count": 12,
   "outputs": []
  },
  {
   "cell_type": "markdown",
   "id": "e303dc51b6168301",
   "metadata": {
    "collapsed": false
   },
   "source": [
    "#### In degree and out degree scatter plots"
   ]
  },
  {
   "cell_type": "code",
   "id": "d422742b3ff02673",
   "metadata": {
    "collapsed": false,
    "ExecuteTime": {
     "end_time": "2024-05-16T12:08:22.767388Z",
     "start_time": "2024-05-16T12:08:22.026364Z"
    }
   },
   "source": [
    "fig = plt.figure(figsize=(8, 6))\n",
    "idx = 0\n",
    "\n",
    "for softwareName, (status, language, src_dir) in SoftwareConfigs1.items():\n",
    "    if status:\n",
    "        outDegreeVals = InDegrees[softwareName][0]\n",
    "        K, PK = get_pdf(outDegreeVals)\n",
    "        maxDeg = outDegreeVals.max()\n",
    "        plt.scatter(K, PK, label=f'{softwareName} max: {maxDeg}', marker=shapes[idx], color=colors[idx])\n",
    "\n",
    "        idx += 1\n",
    "        \n",
    "plt.xlabel(\"$k$\")\n",
    "plt.ylabel(\"$P(k)$\")\n",
    "plt.xscale(\"log\")\n",
    "plt.yscale(\"log\")\n",
    "plt.legend()\n",
    "plt.show()\n",
    "\n",
    "fig = plt.figure(figsize=(8, 6))\n",
    "idx = 0\n",
    "\n",
    "for softwareName, (status, language, src_dir) in SoftwareConfigs1.items():\n",
    "    if status:\n",
    "        outDegreeVals = OutDegrees[softwareName][0]\n",
    "        K, PK = get_pdf(outDegreeVals)\n",
    "        maxDeg = outDegreeVals.max()\n",
    "        plt.scatter(K, PK, label=f'{softwareName} max: {maxDeg}', marker=shapes[idx], color=colors[idx])\n",
    "\n",
    "        idx += 1\n",
    "        \n",
    "plt.xlabel(\"$k$\")\n",
    "plt.ylabel(\"$p(k)$\")\n",
    "plt.xscale(\"log\")\n",
    "plt.yscale(\"log\")\n",
    "plt.legend()\n",
    "plt.show()"
   ],
   "execution_count": 13,
   "outputs": []
  },
  {
   "cell_type": "markdown",
   "id": "ea463f8655c24338",
   "metadata": {
    "collapsed": false
   },
   "source": [
    "### Node weighting analysis"
   ]
  },
  {
   "cell_type": "markdown",
   "id": "b3f07094c5f756dc",
   "metadata": {
    "collapsed": false
   },
   "source": [
    "#### Node weighting degree extraction"
   ]
  },
  {
   "cell_type": "code",
   "execution_count": 14,
   "id": "f994225178b8ab1e",
   "metadata": {
    "collapsed": false,
    "ExecuteTime": {
     "end_time": "2024-03-31T12:54:53.236296Z",
     "start_time": "2024-03-31T12:54:53.173376Z"
    }
   },
   "source": [
    "import networkx as nx\n",
    "import pandas as pd\n",
    "import numpy as np\n",
    "\n",
    "WDegrees = dict()\n",
    "df = pd.DataFrame(columns=['name', 'ave', 'max', 'min'])\n",
    "idx = 0\n",
    "for softwareName, (status, language, src_dir) in SoftwareConfigs1.items():\n",
    "    if status:\n",
    "        G = Graphs[softwareName]\n",
    "        labels = Labels[softwareName]\n",
    "        types = Types[softwareName]\n",
    "        \n",
    "        degrees = dict(nx.degree(G, weight='weight'))\n",
    "        outDegreeVals = np.asarray(list(degrees.values()))\n",
    "        degreeIds = np.asarray(list(degrees.keys()))\n",
    "        degreeLabs = np.asarray([labels[i] for i in degreeIds])\n",
    "        degreeTypes = np.asarray([types[i] for i in degreeIds])\n",
    "        WDegrees[softwareName] = (outDegreeVals, degreeIds, degreeLabs, degreeTypes)\n",
    "        \n",
    "        df.loc[idx] = [softwareName, round(outDegreeVals.sum() / outDegreeVals.size, 2), outDegreeVals.max(), outDegreeVals.min()]\n",
    "        idx +=1\n",
    "df.T"
   ],
   "outputs": []
  },
  {
   "cell_type": "markdown",
   "id": "7528385da982cc06",
   "metadata": {
    "collapsed": false
   },
   "source": [
    "#### Fitting of node weighted degree power-law distribution"
   ]
  },
  {
   "cell_type": "code",
   "execution_count": 15,
   "id": "1b67cf61bd264242",
   "metadata": {
    "collapsed": false,
    "ExecuteTime": {
     "end_time": "2024-03-31T12:54:53.370675Z",
     "start_time": "2024-03-31T12:54:53.236296Z"
    }
   },
   "source": [
    "df = pd.DataFrame(columns=['name', 'alpha', 'k-min', 'D', 'sigma'])\n",
    "idx = 0\n",
    "for softwareName, (status, language, src_dir) in SoftwareConfigs1.items():\n",
    "    if status:\n",
    "        wDegreeVals = WDegrees[softwareName][0]\n",
    "        fit = powerlaw.Fit(wDegreeVals, discrete=True)\n",
    "        df.loc[idx] = [softwareName, round(fit.alpha, 3), int(fit.xmin), round(fit.D, 3), round(fit.sigma, 3)]\n",
    "        idx += 1"
   ],
   "outputs": []
  },
  {
   "cell_type": "code",
   "source": [
    "df.T\n"
   ],
   "metadata": {
    "collapsed": false,
    "ExecuteTime": {
     "end_time": "2024-03-31T12:54:53.376951Z",
     "start_time": "2024-03-31T12:54:53.370675Z"
    }
   },
   "id": "62bf4c7f046aff29",
   "execution_count": 16,
   "outputs": []
  },
  {
   "cell_type": "markdown",
   "id": "862b32ce5ea41267",
   "metadata": {
    "collapsed": false
   },
   "source": [
    "#### Weighted degree scatter plot of nodes"
   ]
  },
  {
   "cell_type": "code",
   "execution_count": 17,
   "id": "4ab4ec53da764f91",
   "metadata": {
    "collapsed": false,
    "ExecuteTime": {
     "end_time": "2024-03-31T12:54:55.274088Z",
     "start_time": "2024-03-31T12:54:53.377956Z"
    }
   },
   "source": [
    "fig, axs = plt.subplots(3, 3, figsize=(12, 12))\n",
    "idx = 0\n",
    "\n",
    "for softwareName, (status, language, src_dir) in SoftwareConfigs1.items():\n",
    "    if status:\n",
    "        wDegreeVals = WDegrees[softwareName][0]\n",
    "        K, PK = get_pdf(wDegreeVals)\n",
    "        maxDeg = wDegreeVals.max()\n",
    "        \n",
    "        ax = axs[int(idx / 3), idx % 3]\n",
    "        ax.scatter(K, PK, label=f'{softwareName} max: {maxDeg}', marker=shapes[idx], color=colors[idx])\n",
    "        ax.set_title(softwareName)\n",
    "        ax.set_xscale('log')\n",
    "        ax.set_yscale('log')\n",
    "        idx += 1\n",
    "\n",
    "plt.show()"
   ],
   "outputs": []
  },
  {
   "cell_type": "markdown",
   "id": "be4b09bbab018dd0",
   "metadata": {
    "collapsed": false
   },
   "source": [
    "### Weight analysis of nodes"
   ]
  },
  {
   "cell_type": "markdown",
   "source": [
    "### Cumulative distribution curve of function node weights"
   ],
   "metadata": {
    "collapsed": false
   },
   "id": "68df8d9d9b40fc38"
  },
  {
   "cell_type": "code",
   "source": [
    "from ccft.core.constant import ENode\n",
    "FuncNodeWs = dict()\n",
    "\n",
    "for softwareName, (status, language, src_dir) in SoftwareConfigs1.items():\n",
    "    if status:\n",
    "        G = Graphs[softwareName]\n",
    "        types = Types[softwareName]\n",
    "        \n",
    "        funcNodes = []\n",
    "        funcNodeWs = []\n",
    "        for n, data in G.nodes(data=True):\n",
    "            if types[n] == ENode.Method.name:\n",
    "                funcNodes.append(n)\n",
    "                funcNodeWs.append(data['weight'])\n",
    "        FuncNodeWs[softwareName] = (funcNodes, funcNodeWs)\n"
   ],
   "metadata": {
    "collapsed": false,
    "ExecuteTime": {
     "end_time": "2024-04-06T12:45:45.517514Z",
     "start_time": "2024-04-06T12:45:45.500989Z"
    }
   },
   "id": "9be01a973f024a21",
   "execution_count": 12,
   "outputs": []
  },
  {
   "cell_type": "code",
   "source": [
    "saveDir = os.path.join(LabSpace, 'graph', 'ENC-CDF')\n",
    "if os.path.isdir(saveDir):\n",
    "    shutil.rmtree(saveDir)\n",
    "os.makedirs(saveDir)    "
   ],
   "metadata": {
    "collapsed": false,
    "ExecuteTime": {
     "end_time": "2024-04-06T12:56:20.495631Z",
     "start_time": "2024-04-06T12:56:20.489911Z"
    }
   },
   "id": "9a71782797135af5",
   "execution_count": 19,
   "outputs": []
  },
  {
   "cell_type": "code",
   "execution_count": 20,
   "id": "6a41466666fe5949",
   "metadata": {
    "collapsed": false,
    "ExecuteTime": {
     "end_time": "2024-04-06T12:56:21.312217Z",
     "start_time": "2024-04-06T12:56:21.035146Z"
    }
   },
   "source": [
    "from experiment.lab2.lab2_func import get_pdf\n",
    "import numpy as np\n",
    "import pandas as pd\n",
    "\n",
    "plt.figure(figsize=(8, 6))\n",
    "\n",
    "idx = 0\n",
    "maxW = 0\n",
    "for softwareName, (status, language, src_dir) in SoftwareConfigs1.items():\n",
    "    if status:\n",
    "        G = Graphs[softwareName]\n",
    "        labels = Labels[softwareName]\n",
    "        types = Types[softwareName]\n",
    "        \n",
    "        funcNodes = FuncNodeWs[softwareName][0]\n",
    "        funcNodeWs = FuncNodeWs[softwareName][1]\n",
    "        \n",
    "        k, p = get_pdf(funcNodeWs)\n",
    "        maxW = max(maxW, max(funcNodeWs))\n",
    "        cdf = [0] * len(p)\n",
    "        cdf[0] = p[0]\n",
    "        for i in range(1, len(p)):\n",
    "            cdf[i] = cdf[i-1] + p[i]\n",
    "        \n",
    "        df = pd.DataFrame()\n",
    "        df['nec'] = k\n",
    "        df['cdf'] = cdf\n",
    "        df.to_csv(os.path.join(saveDir, f'{softwareName}.csv'))\n",
    "        \n",
    "        # ax.set_xscale('log')\n",
    "        # ax.set_title(softwareName)\n",
    "        # ax.plot(dx, dy, color='gray', linestyle='-')\n",
    "        plt.plot(k, cdf, color=colors[idx], label=softwareName)\n",
    "        idx += 1\n",
    " \n",
    "dx = np.linspace(1, maxW, num=2)\n",
    "dy = [0.9, 0.9]       \n",
    "plt.plot(dx, dy, color='gray', linestyle='--')\n",
    "x = [20, 20]\n",
    "y = [0, 1]\n",
    "plt.plot(x, y, color='gray', linestyle='--')\n",
    "plt.xlabel(\"k\")\n",
    "plt.ylabel(\"$P(k)$\")\n",
    "plt.xscale('log')\n",
    "plt.legend()\n",
    "plt.show()"
   ],
   "outputs": []
  },
  {
   "cell_type": "markdown",
   "source": [
    "## 5.2.3 Analysis of Small World Characteristics"
   ],
   "metadata": {
    "collapsed": false
   },
   "id": "1fd6d93a16decc5c"
  },
  {
   "cell_type": "markdown",
   "source": [
    "### Calculate the average shortest path and average clustering coefficient of nodes, as well as the average shortest path and average clustering coefficient of random networks\n"
   ],
   "metadata": {
    "collapsed": false
   },
   "id": "4c6253d2ab35c489"
  },
  {
   "cell_type": "code",
   "source": [
    "def cal_ave_shortest_path_length(_graph_):\n",
    "    i_pathCount = 0\n",
    "    d_lengthDict = dict()\n",
    "    i_sumLength = 0\n",
    "    for _n_ in _graph_.nodes:\n",
    "        for l in nx.single_source_shortest_path_length(_graph_, _n_).values():\n",
    "            i_pathCount += 1\n",
    "            i_sumLength += l\n",
    "            if l in d_lengthDict:\n",
    "                d_lengthDict[l] += 1\n",
    "            else:\n",
    "                d_lengthDict[l] = 1\n",
    "            \n",
    "    for l in d_lengthDict:\n",
    "        d_lengthDict[l] = d_lengthDict[l] / i_pathCount\n",
    "            \n",
    "    return d_lengthDict, i_sumLength, i_pathCount"
   ],
   "metadata": {
    "collapsed": false,
    "ExecuteTime": {
     "end_time": "2024-04-06T12:45:51.575827Z",
     "start_time": "2024-04-06T12:45:51.570679Z"
    }
   },
   "id": "4a4f272d03dfd1a4",
   "execution_count": 15,
   "outputs": []
  },
  {
   "cell_type": "markdown",
   "source": [
    "### Draw the shortest path distribution"
   ],
   "metadata": {
    "collapsed": false
   },
   "id": "38494e479287c5d"
  },
  {
   "cell_type": "code",
   "source": [
    "saveDir = os.path.join(LabSpace, 'graph', 'Path-PDF')\n",
    "if os.path.isdir(saveDir):\n",
    "    shutil.rmtree(saveDir)\n",
    "os.makedirs(saveDir)    "
   ],
   "metadata": {
    "collapsed": false,
    "ExecuteTime": {
     "end_time": "2024-04-06T12:46:30.289637Z",
     "start_time": "2024-04-06T12:46:30.286548Z"
    }
   },
   "id": "92af079e620cf822",
   "execution_count": 16,
   "outputs": []
  },
  {
   "cell_type": "code",
   "source": [
    "import pandas as pd\n",
    "import networkx as nx\n",
    "\n",
    "Lengths = dict()\n",
    "AveLengths = dict()\n",
    "AveClus = dict()\n",
    "\n",
    "fig, axs = plt.subplots(3, 3, figsize=(18, 18))\n",
    "idx = 0\n",
    "labs = ['a', 'b', 'c', 'd', 'e', 'f', 'g', 'h', 'i']\n",
    "\n",
    "for softwareName, (status, language, src_dir) in SoftwareConfigs1.items():\n",
    "    if status:\n",
    "        G = Graphs[softwareName]\n",
    "        UnG = G.to_undirected()\n",
    "        \n",
    "        lengthDict, sumLength, pathCount = cal_ave_shortest_path_length(UnG)\n",
    "        aveLength = sumLength / pathCount\n",
    "        aveClus = nx.average_clustering(UnG)\n",
    "\n",
    "        Lengths[softwareName] = lengthDict\n",
    "        AveClus[softwareName] = aveClus\n",
    "        AveLengths[softwareName] = aveLength\n",
    "        \n",
    "        df = pd.DataFrame()\n",
    "        df['len'] = list(lengthDict.keys())\n",
    "        df['count'] = list(lengthDict.values())\n",
    "        df.to_csv(os.path.join(saveDir, f'{softwareName}.csv'))\n",
    "        \n",
    "        ax = axs[int(idx / 3), idx % 3]\n",
    "        ax.bar(list(lengthDict.keys()), list(lengthDict.values()), color=colors[idx])\n",
    "        ax.set_xlabel('$d$')\n",
    "        ax.set_ylabel('$p(d)$')\n",
    "        ax.set_title(f'{labs[idx]}) {softwareName}', y=-0.2, fontdict={'family': 'Times New Roman', 'size': 18})\n",
    "        plt.subplots_adjust(hspace=0.25, wspace=0.23)\n",
    "        idx += 1\n",
    "plt.show()   "
   ],
   "metadata": {
    "collapsed": false,
    "ExecuteTime": {
     "end_time": "2024-04-06T15:23:44.201519Z",
     "start_time": "2024-04-06T15:23:07.307985Z"
    }
   },
   "id": "bc2a020e2d46bc92",
   "execution_count": 38,
   "outputs": []
  },
  {
   "cell_type": "markdown",
   "source": [
    "### Generate 100 random networks and calculate small world coefficients"
   ],
   "metadata": {
    "collapsed": false
   },
   "id": "4b3d3fe418917286"
  },
  {
   "cell_type": "code",
   "source": [
    "RandomGraphCount = 10"
   ],
   "metadata": {
    "collapsed": false,
    "ExecuteTime": {
     "end_time": "2024-03-31T12:55:28.551802Z",
     "start_time": "2024-03-31T12:55:28.549574Z"
    }
   },
   "id": "1ba9c713e45a104c",
   "execution_count": 22,
   "outputs": []
  },
  {
   "cell_type": "code",
   "source": [
    "df = pd.DataFrame(columns=['name', 'ave len', 'ave clus', 'ave r len', 'ave r clus', 'gamma'])\n",
    "idx = 0\n",
    "for softwareName, (status, language, src_dir) in SoftwareConfigs1.items():\n",
    "    if status:\n",
    "        G = Graphs[softwareName]\n",
    "        UnG = G.to_undirected()\n",
    "        labels = Labels[softwareName]\n",
    "        types = Types[softwareName]\n",
    "        \n",
    "        N = G.number_of_nodes()\n",
    "        E = G.number_of_edges()\n",
    "        \n",
    "        randomGraphCount = 0\n",
    "        randomGraphAveClus = []\n",
    "        sumRLength = 0\n",
    "        sumRClus = 0\n",
    "        \n",
    "        while randomGraphCount < RandomGraphCount:\n",
    "            randomGraph = nx.gnm_random_graph(N, E)\n",
    "            _, t_sumLength, t_pathCount = cal_ave_shortest_path_length(randomGraph)\n",
    "            sumRLength += t_sumLength / t_pathCount\n",
    "            sumRClus += nx.average_clustering(randomGraph)\n",
    "            randomGraphCount += 1\n",
    "            print(f'{softwareName} generates a random network {randomGraphCount}')\n",
    "        \n",
    "        aveClus = AveClus[softwareName]\n",
    "        aveLength = AveLengths[softwareName]\n",
    "        aveRLength = sumRLength / RandomGraphCount\n",
    "        aveRClus = sumRClus / RandomGraphCount\n",
    "        gamma = (aveClus / aveRClus) / (aveLength / aveRLength)\n",
    "        df.loc[idx] = [softwareName, round(aveLength, 2), round(aveClus, 4), round(aveRLength, 2), round(aveRClus, 4), gamma]\n",
    "        \n",
    "        idx += 1\n"
   ],
   "metadata": {
    "collapsed": false,
    "ExecuteTime": {
     "end_time": "2024-03-31T13:04:30.872497Z",
     "start_time": "2024-03-31T12:55:28.552814Z"
    }
   },
   "id": "f67628bcc64bc960",
   "execution_count": 23,
   "outputs": []
  },
  {
   "cell_type": "code",
   "source": [
    "df = df.T\n",
    "\n",
    "csvPath = os.path.join(InfoDir, 'small-word-sim.csv')\n",
    "df.to_csv(csvPath)\n",
    "print(f'Small world information is saved in {csvPath}')\n",
    "df\n"
   ],
   "metadata": {
    "collapsed": false,
    "ExecuteTime": {
     "end_time": "2024-03-31T13:12:19.947423Z",
     "start_time": "2024-03-31T13:12:19.938069Z"
    }
   },
   "id": "4fc52d7895b5dfb0",
   "execution_count": 25,
   "outputs": []
  },
  {
   "cell_type": "code",
   "source": [],
   "metadata": {
    "collapsed": false
   },
   "id": "4d1aab2c1e7c3b75",
   "execution_count": null,
   "outputs": []
  }
 ],
 "metadata": {
  "kernelspec": {
   "display_name": "Python 3 (ipykernel)",
   "language": "python",
   "name": "python3"
  },
  "language_info": {
   "codemirror_mode": {
    "name": "ipython",
    "version": 3
   },
   "file_extension": ".py",
   "mimetype": "text/x-python",
   "name": "python",
   "nbconvert_exporter": "python",
   "pygments_lexer": "ipython3",
   "version": "3.11.8"
  }
 },
 "nbformat": 4,
 "nbformat_minor": 5
}
