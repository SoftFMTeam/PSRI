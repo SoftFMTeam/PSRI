{
 "cells": [
  {
   "cell_type": "code",
   "execution_count": 1,
   "id": "initial_id",
   "metadata": {
    "collapsed": true,
    "ExecuteTime": {
     "end_time": "2024-03-15T05:47:16.202003Z",
     "start_time": "2024-03-15T05:47:15.897617Z"
    }
   },
   "source": [
    "import os\n",
    "from matplotlib import pyplot as plt\n",
    "plt.rcParams['font.sans-serif'] = ['Microsoft YaHei']\n",
    "plt.rcParams['axes.unicode_minus'] = False"
   ],
   "outputs": []
  },
  {
   "cell_type": "code",
   "source": [
    "import shutil\n",
    "from experiment.lab2._config_ import LabSpace\n",
    "\n",
    "sumMeasureDir = os.path.join(LabSpace, '.measure')"
   ],
   "metadata": {
    "collapsed": false,
    "ExecuteTime": {
     "end_time": "2024-03-15T05:47:18.551280Z",
     "start_time": "2024-03-15T05:47:18.533304Z"
    }
   },
   "id": "25c1e012851158d3",
   "execution_count": 2,
   "outputs": []
  },
  {
   "cell_type": "markdown",
   "source": [
    "## Read network"
   ],
   "metadata": {
    "collapsed": false
   },
   "id": "f8be06d68f84fad7"
  },
  {
   "cell_type": "code",
   "source": [
    "from experiment.functions import func_get_lab_graph\n",
    "from loguru import logger\n",
    "from experiment.lab2._config_ import SoftwareConfit, LabSpace\n",
    "\n",
    "GraphDict = dict()\n",
    "\n",
    "for softwareName, (status, language, src_dir) in SoftwareConfit.items():\n",
    "    if status:\n",
    "        modelDir = os.path.join(LabSpace, softwareName)\n",
    "        labDir = os.path.join(modelDir, '.lab2')\n",
    "        graphDir = os.path.join(labDir, 'graph')\n",
    "\n",
    "        if not os.path.isdir(labDir):\n",
    "            os.makedirs(labDir, exist_ok=True)\n",
    "\n",
    "        logger.info(f'>>> {softwareName} >>> read network objects')\n",
    "        labGraph, labelDict, _ = func_get_lab_graph(modelDir, labDir, graphDir, softwareName, True)\n",
    "        GraphDict[softwareName] = labGraph"
   ],
   "metadata": {
    "collapsed": false,
    "ExecuteTime": {
     "end_time": "2024-03-15T05:47:31.987906Z",
     "start_time": "2024-03-15T05:47:28.592452Z"
    }
   },
   "id": "1f79a41e54c4382e",
   "execution_count": 3,
   "outputs": []
  },
  {
   "cell_type": "code",
   "source": [
    "print(GraphDict.keys())"
   ],
   "metadata": {
    "collapsed": false,
    "ExecuteTime": {
     "end_time": "2024-03-15T05:47:41.159124Z",
     "start_time": "2024-03-15T05:47:41.155634Z"
    }
   },
   "id": "3d70b34cda4902ef",
   "execution_count": 4,
   "outputs": []
  },
  {
   "cell_type": "markdown",
   "source": [
    "## Degree analysis of software"
   ],
   "metadata": {
    "collapsed": false
   },
   "id": "ed389e59e96fff37"
  },
  {
   "cell_type": "code",
   "source": [
    "from experiment.algorithms.distribution.powerlaw_ana import powerlaw_fit\n",
    "import powerlaw\n",
    "import numpy as np\n",
    "\n",
    "degreeInfos = dict()\n",
    "for softwareName, G in GraphDict.items():\n",
    "    data = np.asarray(list(dict(G.degree()).values()))\n",
    "    fit, info, X, Y, logX, logY = powerlaw_fit(data, plot=True, kMinPlot=False, title=f'Degree distribution of {softwareName}')\n",
    "    degreeInfos[softwareName] = info\n",
    "\n",
    "for softwareName, degreeInfo in degreeInfos.items():\n",
    "    if degreeInfo['D'] < 0.05:\n",
    "        print(f'{softwareName} ------- {degreeInfo}')\n",
    "    else:\n",
    "        print(f'{softwareName} +++++++ {degreeInfo}')"
   ],
   "metadata": {
    "collapsed": false,
    "ExecuteTime": {
     "end_time": "2024-03-15T05:59:15.192305Z",
     "start_time": "2024-03-15T05:59:08.213543Z"
    }
   },
   "id": "8b5f29ffddb4c857",
   "execution_count": 14,
   "outputs": []
  },
  {
   "cell_type": "markdown",
   "source": [
    "K_min 分析"
   ],
   "metadata": {
    "collapsed": false
   },
   "id": "8f6df317938755c2"
  },
  {
   "cell_type": "code",
   "source": [
    "D_list = []\n",
    "for x in np.linspace(1,51,26):\n",
    "    fit = powerlaw.Fit(data, xmin = x)\n",
    "    D_list.append(fit.power_law.D)\n",
    "\n",
    "plt.plot(np.linspace(1,51,26), D_list, \"r-\")\n",
    "plt.xlabel(\"$K_{min}$\")\n",
    "plt.ylabel(\"$D$\")\n",
    "plt.yscale(\"log\")"
   ],
   "metadata": {
    "collapsed": false,
    "ExecuteTime": {
     "end_time": "2024-03-15T05:48:01.352451Z",
     "start_time": "2024-03-15T05:48:01.245623Z"
    }
   },
   "id": "88ae6c32259e8ecd",
   "execution_count": 6,
   "outputs": []
  },
  {
   "cell_type": "code",
   "source": [],
   "metadata": {
    "collapsed": false
   },
   "id": "30e10b8757c77b76",
   "execution_count": null,
   "outputs": []
  }
 ],
 "metadata": {
  "kernelspec": {
   "display_name": "Python 3",
   "language": "python",
   "name": "python3"
  },
  "language_info": {
   "codemirror_mode": {
    "name": "ipython",
    "version": 2
   },
   "file_extension": ".py",
   "mimetype": "text/x-python",
   "name": "python",
   "nbconvert_exporter": "python",
   "pygments_lexer": "ipython2",
   "version": "2.7.6"
  }
 },
 "nbformat": 4,
 "nbformat_minor": 5
}
