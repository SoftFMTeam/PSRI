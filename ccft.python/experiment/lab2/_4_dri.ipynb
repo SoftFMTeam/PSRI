{
 "cells": [
  {
   "cell_type": "markdown",
   "source": [
    "# Risk diffusion experiment comparison indicators"
   ],
   "metadata": {
    "collapsed": false
   },
   "id": "de6c8c8889936ad"
  },
  {
   "cell_type": "code",
   "source": [
    "from matplotlib import pyplot as plt\n",
    "plt.rcParams['font.sans-serif'] = ['Microsoft YaHei']\n",
    "plt.rcParams['axes.unicode_minus'] = False\n",
    "shapes = ['o', 'v', '^', '<', '>', 's', 'p', '*', 'h', '+']\n",
    "colors = ['red', 'blue', 'green', 'orange', 'purple', 'cyan', 'magenta', 'darkgreen', 'chocolate']"
   ],
   "metadata": {
    "collapsed": false,
    "ExecuteTime": {
     "end_time": "2024-05-22T07:34:24.008597Z",
     "start_time": "2024-05-22T07:34:23.711396Z"
    }
   },
   "id": "32741b546985310f",
   "execution_count": 1,
   "outputs": []
  },
  {
   "cell_type": "markdown",
   "source": [
    "## Read network"
   ],
   "metadata": {
    "collapsed": false
   },
   "id": "e498601cf5ed8950"
  },
  {
   "cell_type": "code",
   "source": [
    "from experiment.functions import func_get_lab_graph, save_graph\n",
    "from experiment.lab2._0_config_ import LabSpace, SoftwareConfigs1\n",
    "import os\n",
    "\n",
    "Graphs = dict()\n",
    "Labels = dict()\n",
    "Types = dict()\n",
    "\n",
    "for softwareName, (status, language, src_dir) in SoftwareConfigs1.items():\n",
    "    if status:\n",
    "        modelDir = os.path.join(LabSpace, softwareName)\n",
    "        labDir = os.path.join(modelDir, '.lab2')\n",
    "        \n",
    "        G, labelDict, _, typeDict = func_get_lab_graph(modelDir, labDir, softwareName)\n",
    "        Graphs[softwareName] = G\n",
    "        Labels[softwareName] = labelDict\n",
    "        Types[softwareName] = typeDict\n",
    "        print(f'{softwareName} read completed')\n",
    "        "
   ],
   "metadata": {
    "collapsed": false,
    "ExecuteTime": {
     "end_time": "2024-05-22T07:34:24.748105Z",
     "start_time": "2024-05-22T07:34:24.010094Z"
    }
   },
   "id": "2bd8d7716244d8ec",
   "execution_count": 2,
   "outputs": []
  },
  {
   "cell_type": "code",
   "id": "initial_id",
   "metadata": {
    "collapsed": true,
    "ExecuteTime": {
     "end_time": "2024-05-22T07:35:27.453234Z",
     "start_time": "2024-05-22T07:34:24.749636Z"
    }
   },
   "source": [
    "from experiment.algorithms.rank.het_gm_rank import gc_rank, ggc_rank, iFit_rank, ksgc_rank, gcd_rank, ggcd_rank\n",
    "from experiment.algorithms.rank.element_rank import element_rank, pr_rank\n",
    "import networkx as nx\n",
    "\n",
    "DRIs = dict()\n",
    "DCs = dict()\n",
    "BCs = dict()\n",
    "CCs = dict()\n",
    "PGs = dict()\n",
    "ERs = dict()\n",
    "GCs = dict()\n",
    "GCDs = dict()\n",
    "GGCs = dict()\n",
    "GGCDs = dict()\n",
    "iFits = dict()\n",
    "KSGCs = dict()\n",
    "\n",
    "ReCal = False\n",
    "\n",
    "for softwareName, (status, language, src_dir) in SoftwareConfigs1.items():\n",
    "    if status:\n",
    "        G = Graphs[softwareName]\n",
    "        labDir = os.path.join(LabSpace, softwareName, '.lab2')\n",
    "        \n",
    "        print(f'{softwareName} starts calculating comparison methods')\n",
    "        \n",
    "        DRIs[softwareName] = dict(G.nodes.data('DRI'))\n",
    "\n",
    "        for _, data in G.nodes(data=True):\n",
    "            unG = G.to_undirected()\n",
    "            \n",
    "            if ReCal or 'dc' not in data:\n",
    "                dc = nx.degree_centrality(G)\n",
    "                DCs[softwareName] = dc\n",
    "                dcList = [(key, {'dc': val}) for key, val in dc.items()]\n",
    "                G.add_nodes_from(dcList)\n",
    "            else:\n",
    "                DCs[softwareName] = dict(G.nodes.data('dc'))\n",
    "            print('\\tDegree centrality calculation completed')\n",
    "       \n",
    "            if ReCal or 'cc' not in data:\n",
    "                cc = nx.closeness_centrality(G)\n",
    "                CCs[softwareName] = cc\n",
    "                ccList = [(key, {'cc': val}) for key, val in cc.items()]\n",
    "                G.add_nodes_from(ccList)\n",
    "            else:\n",
    "                CCs[softwareName] = dict(G.nodes.data('cc'))\n",
    "            print('\\tClose centrality calculation completed')\n",
    "\n",
    "            if ReCal or 'bc' not in data:\n",
    "                bc = nx.betweenness_centrality(G)\n",
    "                BCs[softwareName] = bc\n",
    "                bcList = [(key, {'bc': val}) for key, val in bc.items()]\n",
    "                G.add_nodes_from(bcList)\n",
    "            else:\n",
    "                BCs[softwareName] = dict(G.nodes.data('bc'))\n",
    "            print('\\tMedian centrality calculation completed')\n",
    "        \n",
    "            if ReCal or 'pg' not in data:\n",
    "                pg = nx.pagerank(G)\n",
    "                PGs[softwareName] = pg\n",
    "                pgList = [(key, {'pg': val}) for key, val in pg.items()]\n",
    "                G.add_nodes_from(pgList)\n",
    "            else:\n",
    "                PGs[softwareName] = dict(G.nodes.data('pg'))\n",
    "            print('\\tPage rank calculation completed')\n",
    "        \n",
    "            if ReCal or 'er' not in data:\n",
    "                er = element_rank(G)\n",
    "                ERs[softwareName] = er\n",
    "                erList = [(key, {'er': val}) for key, val in er.items()]\n",
    "                G.add_nodes_from(erList)\n",
    "            else:\n",
    "                ERs[softwareName] = dict(G.nodes.data('er'))\n",
    "            print('\\tElement rank calculation completed')\n",
    "            \n",
    "            if ReCal or 'gc' not in data:\n",
    "                gc = gc_rank(G)\n",
    "                GCs[softwareName] = gc\n",
    "                gcList = [(key, {'gc': val}) for key, val in gc.items()]\n",
    "                G.add_nodes_from(gcList)\n",
    "            else:\n",
    "                GCs[softwareName] = dict(G.nodes.data('gc'))\n",
    "            print('\\tThe calculation of the center of gravity has been completed')\n",
    "            \n",
    "            if ReCal or 'gcd' not in data:\n",
    "                gcd = gcd_rank(G)\n",
    "                GCDs[softwareName] = gcd\n",
    "                gcdList = [(key, {'gcd': val}) for key, val in gcd.items()]\n",
    "                G.add_nodes_from(gcdList)\n",
    "            else:\n",
    "                GCDs[softwareName] = dict(G.nodes.data('gcd'))\n",
    "            print('\\tThe calculation of the center of gravity has been completed')\n",
    "            \n",
    "            if ReCal or 'iFit' not in data:\n",
    "                pr = pr_rank(G)\n",
    "                iFit = iFit_rank(G, pr)\n",
    "                iFits[softwareName] = iFit\n",
    "                iFitList = [(key, {'iFit': val}) for key, val in iFit.items()]\n",
    "                G.add_nodes_from(iFitList)\n",
    "            else:\n",
    "                iFits[softwareName] = dict(G.nodes.data('iFit'))\n",
    "            print('\\tIFit calculation completed')\n",
    "            \n",
    "            if ReCal or 'ggc' not in data:\n",
    "                ggc = ggc_rank(G)\n",
    "                GGCs[softwareName] = ggc\n",
    "                ggcList = [(key, {'ggc': val}) for key, val in ggc.items()]\n",
    "                G.add_nodes_from(ggcList)\n",
    "            else:\n",
    "                GGCs[softwareName] = dict(G.nodes.data('ggc'))\n",
    "            print('\\tGGC calculation completed')\n",
    "            \n",
    "            if ReCal or 'ggcd' not in data:\n",
    "                ggcd = ggcd_rank(G)\n",
    "                GGCDs[softwareName] = ggcd\n",
    "                ggcdList = [(key, {'ggcd': val}) for key, val in ggcd.items()]\n",
    "                G.add_nodes_from(ggcdList)\n",
    "            else:\n",
    "                GGCDs[softwareName] = dict(G.nodes.data('ggcd'))\n",
    "            print('\\tGGC calculation completed')\n",
    "            \n",
    "            # if 'ksgc' not in data:\n",
    "            #     ksgc = ksgc_rank(G)\n",
    "            #     KSGCs[softwareName] = ksgc\n",
    "            #     ksgcList = [(key, {'ksgc': val}) for key, val in ksgc.items()]\n",
    "            #     G.add_nodes_from(ksgcList)\n",
    "            # else:\n",
    "            #     KSGCs[softwareName] = dict(G.nodes.data('ksgc'))\n",
    "            \n",
    "            break\n",
    "\n",
    "        save_graph(labDir, G)"
   ],
   "execution_count": 3,
   "outputs": []
  },
  {
   "cell_type": "markdown",
   "source": [
    "## The correlation between DRI and comparative methods"
   ],
   "metadata": {
    "collapsed": false
   },
   "id": "81cb0000453c349f"
  },
  {
   "cell_type": "code",
   "source": [
    "import pandas as pd\n",
    "from experiment.functions import func_KendallTauTest\n",
    "\n",
    "cols = ['DC', 'BC', 'CC', 'PageRank', 'ElementRank', 'GC', 'GCd', 'GGC', 'GGCd', 'iFit']\n",
    "tauDf = pd.DataFrame(columns=['name', 'RCI', 'DC', 'BC', 'CC', 'PageRank', 'ElementRank', 'GC', 'GCd', 'GGC', 'GGCd', 'iFit'])\n",
    "\n",
    "idx = 0\n",
    "for softwareName, (status, language, src_dir) in SoftwareConfigs1.items():\n",
    "    if status:\n",
    "        G = Graphs[softwareName]\n",
    "        rci = DRIs[softwareName]\n",
    "        \n",
    "        compares = [\n",
    "            ('DRI', DRIs[softwareName]),\n",
    "            ('DC', DCs[softwareName]), \n",
    "            ('BC', BCs[softwareName]), \n",
    "            ('CC', CCs[softwareName]),\n",
    "            ('PageRank', PGs[softwareName]),\n",
    "            ('ElementRank', ERs[softwareName]),\n",
    "            ('GC', GCs[softwareName]),\n",
    "            ('GCd', GCDs[softwareName]),\n",
    "            ('GGC', GGCs[softwareName]),\n",
    "            ('GGCd', GGCDs[softwareName]),\n",
    "            ('iFit', iFits[softwareName]),\n",
    "            # ('VoteRank', VTs[softwareName]),\n",
    "        ]\n",
    "        \n",
    "        tausAll, _ = func_KendallTauTest(rci, compares)\n",
    "        taus, _ = func_KendallTauTest(rci, compares)\n",
    "        taus['name'] = softwareName\n",
    "        tauDf.loc[idx] = taus\n",
    "        \n",
    "        idx += 1\n",
    "tauDf.set_index('name', inplace=True)        \n",
    "\n",
    "directory = os.path.join(LabSpace, '.rdi')\n",
    "if not os.path.isdir(directory):\n",
    "    os.makedirs(directory)\n",
    "    \n",
    "tauDf.to_csv(os.path.join(directory, 'Kendall-tau.csv'))\n",
    "tauDf[cols]"
   ],
   "metadata": {
    "collapsed": false,
    "ExecuteTime": {
     "end_time": "2024-05-22T07:35:27.641123Z",
     "start_time": "2024-05-22T07:35:27.454347Z"
    }
   },
   "id": "d53a4ea6a02e035b",
   "execution_count": 4,
   "outputs": []
  },
  {
   "cell_type": "markdown",
   "source": [
    "## Scatter plot of the top 30% nodes ranked by DRI and comparison algorithms"
   ],
   "metadata": {
    "collapsed": false
   },
   "id": "e26aa39387573bf7"
  },
  {
   "cell_type": "code",
   "source": [
    "import shutil\n",
    "\n",
    "saveDir = os.path.join(LabSpace, 'graph', 'DRI-kendell-tau-b')\n",
    "if os.path.isdir(saveDir):\n",
    "    shutil.rmtree(saveDir)\n",
    "os.makedirs(saveDir)    "
   ],
   "metadata": {
    "collapsed": false,
    "ExecuteTime": {
     "end_time": "2024-05-22T07:35:27.656748Z",
     "start_time": "2024-05-22T07:35:27.641123Z"
    }
   },
   "id": "dacc98784c625497",
   "execution_count": 5,
   "outputs": []
  },
  {
   "cell_type": "code",
   "source": [
    "from experiment.functions import func_SortDictByValue\n",
    "from matplotlib import pyplot as plt\n",
    "import numpy as np\n",
    "from experiment.functions import func_std\n",
    "\n",
    "labs = ['a', 'b', 'c', 'd', 'e', 'f', 'g', 'h', 'i']\n",
    "\n",
    "fig, axs = plt.subplots(3, 3, figsize=(24, 18))\n",
    "plt.subplots_adjust(hspace=0.28, wspace=0.22)\n",
    "\n",
    "idx = 0\n",
    "for softwareName, (status, language, src_dir) in SoftwareConfigs1.items():\n",
    "    if status:\n",
    "        G = Graphs[softwareName]\n",
    "        N = len(DRIs[softwareName])\n",
    "        count = int(N * 0.3)\n",
    "        \n",
    "        rci = DRIs[softwareName]\n",
    "        \n",
    "        X = np.linspace(0, count-1, count)\n",
    "        keys = list(func_SortDictByValue(DRIs[softwareName]).keys())[:count]\n",
    "        dris = func_std([DRIs[softwareName][n] for n in keys])\n",
    "        dcs = func_std([DCs[softwareName][n] for n in keys])\n",
    "        bcs = func_std([BCs[softwareName][n] for n in keys])\n",
    "        ccs = func_std([CCs[softwareName][n] for n in keys])\n",
    "        pgs = func_std([PGs[softwareName][n] for n in keys])\n",
    "        ers = func_std([ERs[softwareName][n] for n in keys])\n",
    "        gcs = func_std([GCs[softwareName][n] for n in keys])\n",
    "        gcds = func_std([GCDs[softwareName][n] for n in keys])\n",
    "        ggcs = func_std([GGCs[softwareName][n] for n in keys])\n",
    "        ggcds = func_std([GGCDs[softwareName][n] for n in keys])\n",
    "        ifits = func_std([iFits[softwareName][n] for n in keys])\n",
    "        \n",
    "        ax = axs[int(idx / 3), idx % 3]\n",
    "        ax.scatter(X, dcs, label='DC', marker=shapes[1], color=colors[1])\n",
    "        ax.scatter(X, bcs, label='BC', marker=shapes[2], color=colors[2])\n",
    "        # ax.scatter(X, ccs, label='CC', marker=shapes[3], color=colors[3])\n",
    "        # ax.scatter(X, pgs, label='PageRank', marker=shapes[4], color=colors[4])\n",
    "        # ax.scatter(X, ers, label='ElementRank', marker=shapes[8], color=colors[8])\n",
    "        ax.scatter(X, gcs, label='GC', marker=shapes[3], color=colors[3])\n",
    "        ax.scatter(X, gcds, label='$GC_d$', marker=shapes[4], color=colors[4])\n",
    "        ax.scatter(X, ggcs, label='GGC', marker=shapes[5], color=colors[5])\n",
    "        ax.scatter(X, ggcds, label='$GGC_d$', marker=shapes[6], color=colors[6])\n",
    "        ax.scatter(X, ifits, label='iFIt', marker=shapes[7], color=colors[7])\n",
    "        ax.scatter(X, dris, label='DRI', marker=shapes[0], color=colors[0])\n",
    "        \n",
    "        ax.set_xlabel('Function', fontdict={'size': 12})\n",
    "        ax.set_ylabel('Score', fontdict={'size': 12})\n",
    "        ax.set_title(f'{labs[idx]}) {softwareName}', y=-0.21, fontdict={'family': 'Times New Roman', 'size': 18})\n",
    "        \n",
    "        ax.legend()\n",
    "        \n",
    "        df = pd.DataFrame()\n",
    "        df['id'] = X\n",
    "        df['node-key'] = keys\n",
    "        df['DRI'] = dris\n",
    "        df['DC'] = dcs\n",
    "        df['BC'] = bcs\n",
    "        df['GC'] = gcs\n",
    "        df['GC_d'] = gcds\n",
    "        df['GGC'] = ggcs\n",
    "        df['GGC_d'] = ggcds\n",
    "        df['iFIt'] = ifits\n",
    "        df.to_csv(os.path.join(saveDir, f'{softwareName}.csv'))\n",
    "        \n",
    "        idx += 1\n",
    "        \n",
    "plt.show()"
   ],
   "metadata": {
    "collapsed": false,
    "ExecuteTime": {
     "end_time": "2024-05-22T07:35:29.050372Z",
     "start_time": "2024-05-22T07:35:27.656748Z"
    }
   },
   "id": "e54f13596e525c17",
   "execution_count": 6,
   "outputs": []
  },
  {
   "cell_type": "code",
   "source": [],
   "metadata": {
    "collapsed": false,
    "ExecuteTime": {
     "end_time": "2024-05-22T07:35:29.065996Z",
     "start_time": "2024-05-22T07:35:29.050372Z"
    }
   },
   "id": "3305310b98654df4",
   "execution_count": 6,
   "outputs": []
  }
 ],
 "metadata": {
  "kernelspec": {
   "display_name": "Python 3",
   "language": "python",
   "name": "python3"
  },
  "language_info": {
   "codemirror_mode": {
    "name": "ipython",
    "version": 2
   },
   "file_extension": ".py",
   "mimetype": "text/x-python",
   "name": "python",
   "nbconvert_exporter": "python",
   "pygments_lexer": "ipython2",
   "version": "2.7.6"
  }
 },
 "nbformat": 4,
 "nbformat_minor": 5
}
